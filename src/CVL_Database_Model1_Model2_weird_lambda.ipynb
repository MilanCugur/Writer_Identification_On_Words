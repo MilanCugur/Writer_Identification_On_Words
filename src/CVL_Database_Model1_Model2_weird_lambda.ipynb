{
  "nbformat": 4,
  "nbformat_minor": 0,
  "metadata": {
    "colab": {
      "name": "CVL_Database_Model1_Model2_weird_lambda.ipynb",
      "version": "0.3.2",
      "provenance": [],
      "collapsed_sections": [
        "K_cWsAj92SYr",
        "P_ZK0Xs4Yxn8"
      ],
      "toc_visible": true,
      "include_colab_link": true
    },
    "kernelspec": {
      "name": "python3",
      "display_name": "Python 3"
    },
    "accelerator": "GPU"
  },
  "cells": [
    {
      "cell_type": "markdown",
      "metadata": {
        "id": "view-in-github",
        "colab_type": "text"
      },
      "source": [
        "<a href=\"https://colab.research.google.com/github/MilanCugur/Writer_Identification_On_Words/blob/master/src/CVL_Database_Model1_Model2_weird_lambda.ipynb\" target=\"_parent\"><img src=\"https://colab.research.google.com/assets/colab-badge.svg\" alt=\"Open In Colab\"/></a>"
      ]
    },
    {
      "cell_type": "code",
      "metadata": {
        "id": "x6XnLcngrAVU",
        "colab_type": "code",
        "outputId": "88236089-6074-42c5-9a10-4d09beee6acf",
        "colab": {
          "base_uri": "https://localhost:8080/",
          "height": 122
        }
      },
      "source": [
        "from google.colab import drive\n",
        "drive.mount('/content/drive')"
      ],
      "execution_count": 1,
      "outputs": [
        {
          "output_type": "stream",
          "text": [
            "Go to this URL in a browser: https://accounts.google.com/o/oauth2/auth?client_id=947318989803-6bn6qk8qdgf4n4g3pfee6491hc0brc4i.apps.googleusercontent.com&redirect_uri=urn%3Aietf%3Awg%3Aoauth%3A2.0%3Aoob&scope=email%20https%3A%2F%2Fwww.googleapis.com%2Fauth%2Fdocs.test%20https%3A%2F%2Fwww.googleapis.com%2Fauth%2Fdrive%20https%3A%2F%2Fwww.googleapis.com%2Fauth%2Fdrive.photos.readonly%20https%3A%2F%2Fwww.googleapis.com%2Fauth%2Fpeopleapi.readonly&response_type=code\n",
            "\n",
            "Enter your authorization code:\n",
            "··········\n",
            "Mounted at /content/drive\n"
          ],
          "name": "stdout"
        }
      ]
    },
    {
      "cell_type": "code",
      "metadata": {
        "id": "2YT0AaYaiN7d",
        "colab_type": "code",
        "outputId": "7a195991-496e-447b-80ad-534757239384",
        "colab": {
          "base_uri": "https://localhost:8080/",
          "height": 34
        }
      },
      "source": [
        "# Seed value\n",
        "seed_value = 225\n",
        "\n",
        "# 1. Set the `PYTHONHASHSEED` environment variable at a fixed value\n",
        "import os\n",
        "os.environ['PYTHONHASHSEED']=str(seed_value)\n",
        "\n",
        "# 2. Set the `python` built-in pseudo-random generator at a fixed value\n",
        "import random\n",
        "random.seed(seed_value)\n",
        "\n",
        "# 3. Set the `numpy` pseudo-random generator at a fixed value\n",
        "import numpy as np\n",
        "np.random.seed(seed_value)\n",
        "\n",
        "# 4. Set `tensorflow` pseudo-random generator at a fixed value\n",
        "import tensorflow as tf\n",
        "tf.set_random_seed(seed_value)\n",
        "\n",
        "# 5. Configure a new global `tensorflow` session\n",
        "from keras import backend as K\n",
        "session_conf = tf.ConfigProto(intra_op_parallelism_threads=1, inter_op_parallelism_threads=1)\n",
        "sess = tf.Session(graph=tf.get_default_graph(), config=session_conf)\n",
        "K.set_session(sess)"
      ],
      "execution_count": 2,
      "outputs": [
        {
          "output_type": "stream",
          "text": [
            "Using TensorFlow backend.\n"
          ],
          "name": "stderr"
        }
      ]
    },
    {
      "cell_type": "markdown",
      "metadata": {
        "id": "iogp-AF8Nzuo",
        "colab_type": "text"
      },
      "source": [
        "# Import part"
      ]
    },
    {
      "cell_type": "code",
      "metadata": {
        "id": "9EVXOQlNrpjC",
        "colab_type": "code",
        "colab": {}
      },
      "source": [
        "import os                     # for basic os operations\n",
        "from zipfile import ZipFile  \n",
        "import numpy as np\n",
        "from matplotlib import pyplot as plt\n",
        "import cv2\n",
        "import tqdm\n",
        "\n",
        "from sklearn import model_selection\n",
        "from collections import Counter"
      ],
      "execution_count": 0,
      "outputs": []
    },
    {
      "cell_type": "markdown",
      "metadata": {
        "id": "SfX6SOghWboc",
        "colab_type": "text"
      },
      "source": [
        "# Load Dataset"
      ]
    },
    {
      "cell_type": "code",
      "metadata": {
        "id": "QruAsqZ0rpOl",
        "colab_type": "code",
        "outputId": "81a5f65e-910b-478d-9c5f-104e88f21af1",
        "colab": {
          "base_uri": "https://localhost:8080/",
          "height": 51
        }
      },
      "source": [
        "%%time\n",
        "\n",
        "PATH = './drive/My Drive/ml_sem/cvl-database-1-1.zip' # path to .zip file\n",
        "archive = ZipFile(PATH, 'r')\n",
        "archive.extractall('./')  \n",
        "\n",
        "archive.close()\n",
        "del archive"
      ],
      "execution_count": 4,
      "outputs": [
        {
          "output_type": "stream",
          "text": [
            "CPU times: user 57.1 s, sys: 17 s, total: 1min 14s\n",
            "Wall time: 1min 50s\n"
          ],
          "name": "stdout"
        }
      ]
    },
    {
      "cell_type": "code",
      "metadata": {
        "id": "SgjzOzLk2iGR",
        "colab_type": "code",
        "outputId": "5e2d9ca4-f4b2-49fe-ddd3-ca63aa7192da",
        "colab": {
          "base_uri": "https://localhost:8080/",
          "height": 34
        }
      },
      "source": [
        "!ls cvl-database-1-1  # Word images with at least 20 instances"
      ],
      "execution_count": 5,
      "outputs": [
        {
          "output_type": "stream",
          "text": [
            "readme.txt  testset  trainset\n"
          ],
          "name": "stdout"
        }
      ]
    },
    {
      "cell_type": "code",
      "metadata": {
        "id": "w3DfskIj2mgA",
        "colab_type": "code",
        "outputId": "893b978b-6e33-4fa9-c677-d50c1acf7e34",
        "colab": {
          "base_uri": "https://localhost:8080/",
          "height": 34
        }
      },
      "source": [
        "!ls cvl-database-1-1/trainset"
      ],
      "execution_count": 6,
      "outputs": [
        {
          "output_type": "stream",
          "text": [
            "lines  pages  words  xml\n"
          ],
          "name": "stdout"
        }
      ]
    },
    {
      "cell_type": "code",
      "metadata": {
        "id": "EFRuoMEM2yR6",
        "colab_type": "code",
        "outputId": "84f4fad1-13d8-43da-87fc-93069ee815ac",
        "colab": {
          "base_uri": "https://localhost:8080/",
          "height": 34
        }
      },
      "source": [
        "!ls cvl-database-1-1/testset/words | wc -l  # 283 WRITERS"
      ],
      "execution_count": 7,
      "outputs": [
        {
          "output_type": "stream",
          "text": [
            "283\n"
          ],
          "name": "stdout"
        }
      ]
    },
    {
      "cell_type": "code",
      "metadata": {
        "id": "1Rv_SSbzJ9xn",
        "colab_type": "code",
        "outputId": "f42647ea-5849-4631-cbdd-ae0bd3a5698a",
        "colab": {
          "base_uri": "https://localhost:8080/",
          "height": 34
        }
      },
      "source": [
        "!ls cvl-database-1-1/trainset/words | wc -l  # 27 WRITERS; it's okay!"
      ],
      "execution_count": 8,
      "outputs": [
        {
          "output_type": "stream",
          "text": [
            "27\n"
          ],
          "name": "stdout"
        }
      ]
    },
    {
      "cell_type": "code",
      "metadata": {
        "id": "MZGK3H-6rpD2",
        "colab_type": "code",
        "outputId": "5156f13e-4fc2-4d2f-8ad6-2237ecceb3f0",
        "colab": {
          "base_uri": "https://localhost:8080/",
          "height": 1000
        }
      },
      "source": [
        "!ls cvl-database-1-1/trainset/words/0001  # example of one writer"
      ],
      "execution_count": 9,
      "outputs": [
        {
          "output_type": "stream",
          "text": [
            " 0001-1-0-0-Imagine.tif\t\t\t        0001-4-2-0-cultivated.tif\n",
            " 0001-1-0-1-a.tif\t\t\t        0001-4-2-1-plants.tif\n",
            " 0001-1-0-2-vast.tif\t\t\t        0001-4-2-2-and.tif\n",
            " 0001-1-0-3-sheet.tif\t\t\t        0001-4-2-3-animals.tif\n",
            " 0001-1-0-4-of.tif\t\t\t        0001-4-2-4-one.tif\n",
            " 0001-1-0-5-paper.tif\t\t\t        0001-4-2-5-of.tif\n",
            " 0001-1-0-6-on.tif\t\t\t        0001-4-2-6-the.tif\n",
            " 0001-1-0-7-which.tif\t\t\t        0001-4-3-0-first.tif\n",
            " 0001-1-0-8-straight.tif\t\t        0001-4-3-1-points.tif\n",
            " 0001-1-10-0-opened.tif\t\t\t        0001-4-3-2-which.tif\n",
            " 0001-1-10-1-to.tif\t\t\t        0001-4-3-3-strikes.tif\n",
            " 0001-1-10-2-higher.tif\t\t\t        0001-4-3-4-us.tif\n",
            " 0001-1-10-3-views.tif\t\t\t        0001-4-3-5-is.tif\n",
            " 0001-1-10-4-of.tif\t\t\t        0001-4-3-6-that.tif\n",
            " 0001-1-10-5-things.tif\t\t\t        0001-4-3-7-they.tif\n",
            " 0001-1-1-0-Lines.tif\t\t\t        0001-4-4-0-generally.tif\n",
            " 0001-1-1-1-Triangles.tif\t\t        0001-4-4-1-differ.tif\n",
            " 0001-1-1-3-Squares.tif\t\t\t        0001-4-4-2-much.tif\n",
            " 0001-1-1-4-Pentagons.tif\t\t        0001-4-4-3-more.tif\n",
            " 0001-1-1-6-Hexagons.tif\t\t        0001-4-4-4-from.tif\n",
            " 0001-1-1-7-and.tif\t\t\t        0001-4-4-5-each.tif\n",
            " 0001-1-1-8-other.tif\t\t\t        0001-4-4-6-other.tif\n",
            " 0001-1-2-0-figures.tif\t\t\t        0001-4-5-0-than.tif\n",
            " 0001-1-2-2-instead.tif\t\t\t        0001-4-5-1-do.tif\n",
            " 0001-1-2-3-of.tif\t\t\t        0001-4-5-2-the.tif\n",
            " 0001-1-2-4-remaining.tif\t\t        0001-4-5-3-individuals.tif\n",
            " 0001-1-2-5-fixed.tif\t\t\t        0001-4-5-4-of.tif\n",
            " 0001-1-2-6-in.tif\t\t\t        0001-4-5-5-any.tif\n",
            " 0001-1-2-7-their.tif\t\t\t        0001-4-5-6-one.tif\n",
            " 0001-1-2-8-places.tif\t\t\t        0001-4-5-7-species.tif\n",
            " 0001-1-3-0-move.tif\t\t\t        0001-4-6-0-or.tif\n",
            " 0001-1-3-1-freely.tif\t\t\t        0001-4-6-1-variety.tif\n",
            " 0001-1-3-2-about.tif\t\t\t        0001-4-6-2-in.tif\n",
            " 0001-1-3-3-on.tif\t\t\t        0001-4-6-3-a.tif\n",
            " 0001-1-3-4-or.tif\t\t\t        0001-4-6-4-state.tif\n",
            " 0001-1-3-5-in.tif\t\t\t        0001-4-6-5-of.tif\n",
            " 0001-1-3-6-the.tif\t\t\t        0001-4-6-6-nature.tif\n",
            " 0001-1-3-7-surface.tif\t\t\t        0001-6-0-0-Werd.tif\n",
            " 0001-1-3-8-but.tif\t\t\t        0001-6-0-1-ich.tif\n",
            " 0001-1-3-9-without.tif\t\t\t        0001-6-0-2-zum.tif\n",
            " 0001-1-4-0-the.tif\t\t\t        0001-6-0-3-Augenblicke.tif\n",
            " 0001-1-4-1-power.tif\t\t\t        0001-6-0-4-sagen.tif\n",
            " 0001-1-4-2-of.tif\t\t\t        0001-6-1-0-Verweile.tif\n",
            " 0001-1-4-4-rising.tif\t\t\t        0001-6-1-1-doch.tif\n",
            " 0001-1-4-5-above.tif\t\t\t        0001-6-1-2-du.tif\n",
            " 0001-1-4-6-or.tif\t\t\t        0001-6-1-3-bist.tif\n",
            " 0001-1-4-7-sinking.tif\t\t\t        0001-6-1-4-so.tif\n",
            " 0001-1-4-8-below.tif\t\t\t        0001-6-1-5-schön.tif\n",
            " 0001-1-4-9-it.tif\t\t\t        0001-6-2-0-Dann.tif\n",
            " 0001-1-5-0-very.tif\t\t\t        0001-6-2-1-magst.tif\n",
            " 0001-1-5-1-much.tif\t\t\t        0001-6-2-2-du.tif\n",
            " 0001-1-5-2-like.tif\t\t\t        0001-6-2-3-mich.tif\n",
            " 0001-1-5-3-shadows.tif\t\t\t        0001-6-2-4-in.tif\n",
            " 0001-1-5-5-only.tif\t\t\t        0001-6-2-5-Fesseln.tif\n",
            " 0001-1-5-6-hard.tif\t\t\t        0001-6-2-6-schlagen.tif\n",
            " 0001-1-5-7-and.tif\t\t\t        0001-6-3-0-Dann.tif\n",
            " 0001-1-5-8-with.tif\t\t\t        0001-6-3-1-will.tif\n",
            " 0001-1-6-0-luminous.tif\t\t        0001-6-3-2-ich.tif\n",
            " 0001-1-6-1-edges.tif\t\t\t        0001-6-3-3-gern.tif\n",
            " 0001-1-6-2-and.tif\t\t\t        0001-6-3-4-zu.tif\n",
            " 0001-1-6-3-you.tif\t\t\t        0001-6-3-6-Grunde.tif\n",
            " 0001-1-6-4-will.tif\t\t\t        0001-6-3-7-gehn.tif\n",
            " 0001-1-6-5-then.tif\t\t\t        0001-6-4-0-Dann.tif\n",
            " 0001-1-6-6-have.tif\t\t\t        0001-6-4-1-mag.tif\n",
            " 0001-1-6-7-a.tif\t\t\t        0001-6-4-2-die.tif\n",
            " 0001-1-7-0-pretty.tif\t\t\t        0001-6-4-3-Todtenglocke.tif\n",
            " 0001-1-7-1-correct.tif\t\t\t        0001-6-4-4-schallen.tif\n",
            " 0001-1-7-2-notion.tif\t\t\t        0001-6-5-0-Dann.tif\n",
            " 0001-1-7-3-of.tif\t\t\t        0001-6-5-1-bist.tif\n",
            " 0001-1-7-4-my.tif\t\t\t        0001-6-5-2-du.tif\n",
            " 0001-1-7-5-country.tif\t\t\t        0001-6-5-3-deines.tif\n",
            " 0001-1-7-6-and.tif\t\t\t        0001-6-5-4-Dienstes.tif\n",
            " 0001-1-7-7-countrymen.tif\t\t        0001-6-5-5-frey.tif\n",
            " 0001-1-8-0-Alas.tif\t\t\t        0001-6-6-0-Die.tif\n",
            " 0001-1-8-1-a.tif\t\t\t        0001-6-6-1-Uhr.tif\n",
            " 0001-1-8-2-few.tif\t\t\t        0001-6-6-2-mag.tif\n",
            " 0001-1-8-3-years.tif\t\t\t        0001-6-6-3-stehn.tif\n",
            " 0001-1-8-4-ago.tif\t\t\t        0001-6-6-4-der.tif\n",
            " 0001-1-8-5-I.tif\t\t\t        0001-6-6-5-Zeiger.tif\n",
            " 0001-1-8-6-should.tif\t\t\t        0001-6-6-6-fallen.tif\n",
            " 0001-1-8-7-have.tif\t\t\t        0001-6-7-0-Es.tif\n",
            " 0001-1-8-8-said.tif\t\t\t        0001-6-7-1-sey.tif\n",
            " 0001-1-9-0-my.tif\t\t\t        0001-6-7-2-die.tif\n",
            " 0001-1-9-1-universe.tif\t\t        0001-6-7-3-Zeit.tif\n",
            " 0001-1-9-3-but.tif\t\t\t        0001-6-7-4-für.tif\n",
            " 0001-1-9-4-now.tif\t\t\t        0001-6-7-5-mich.tif\n",
            " 0001-1-9-5-my.tif\t\t\t        0001-6-7-6-vorbey.tif\n",
            " 0001-1-9-6-mind.tif\t\t\t        0001-7-0-0-You.tif\n",
            " 0001-1-9-8-has.tif\t\t\t        0001-7-0-1-have.tif\n",
            " 0001-1-9-9-been.tif\t\t\t        0001-7-0-2-killed.tif\n",
            " 0001-2-0-0-And.tif\t\t\t        0001-7-0-3-my.tif\n",
            " 0001-2-0-1-fortune.tif\t\t\t        0001-7-0-4-love.tif\n",
            " 0001-2-0-2-on.tif\t\t\t        0001-7-0-5-You.tif\n",
            " 0001-2-0-3-his.tif\t\t\t        0001-7-0-6-used.tif\n",
            " 0001-2-0-4-damned.tif\t\t\t        0001-7-0-7-to.tif\n",
            " 0001-2-0-5-quarrel.tif\t\t\t        0001-7-0-8-stir.tif\n",
            " 0001-2-0-6-smiling.tif\t\t\t        0001-7-1-0-my.tif\n",
            "\"0001-2-1-0-Show'd.tif\"\t\t\t        0001-7-1-1-imagination.tif\n",
            " 0001-2-1-1-like.tif\t\t\t        0001-7-1-2-Now.tif\n",
            " 0001-2-1-2-a.tif\t\t\t        0001-7-1-3-you.tif\n",
            "\"0001-2-1-3-rebel's.tif\"\t\t       \"0001-7-1-4-don't.tif\"\n",
            " 0001-2-1-4-whore.tif\t\t\t        0001-7-1-5-even.tif\n",
            " 0001-2-1-5-but.tif\t\t\t        0001-7-1-6-stir.tif\n",
            "\"0001-2-1-6-all's.tif\"\t\t\t        0001-7-1-7-my.tif\n",
            " 0001-2-1-7-too.tif\t\t\t        0001-7-2-0-curiosity.tif\n",
            " 0001-2-1-8-weak.tif\t\t\t        0001-7-2-1-You.tif\n",
            " 0001-2-2-0-For.tif\t\t\t        0001-7-2-2-simply.tif\n",
            " 0001-2-2-1-brave.tif\t\t\t        0001-7-2-3-produce.tif\n",
            " 0001-2-2-2-Nomacs.tif\t\t\t        0001-7-2-4-no.tif\n",
            " 0001-2-2-4-well.tif\t\t\t        0001-7-2-5-effect.tif\n",
            " 0001-2-2-5-he.tif\t\t\t        0001-7-3-0-I.tif\n",
            " 0001-2-2-6-deserves.tif\t\t        0001-7-3-1-loved.tif\n",
            " 0001-2-2-7-that.tif\t\t\t        0001-7-3-2-you.tif\n",
            " 0001-2-2-8-name.tif\t\t\t        0001-7-3-3-because.tif\n",
            " 0001-2-3-0-Disdaining.tif\t\t        0001-7-3-4-you.tif\n",
            " 0001-2-3-1-fortune.tif\t\t\t        0001-7-3-5-were.tif\n",
            " 0001-2-3-3-with.tif\t\t\t        0001-7-3-6-marvellous.tif\n",
            " 0001-2-3-4-his.tif\t\t\t        0001-7-4-0-because.tif\n",
            "\"0001-2-3-5-brandish'd.tif\"\t\t        0001-7-4-1-you.tif\n",
            " 0001-2-3-6-steel.tif\t\t\t        0001-7-4-2-had.tif\n",
            " 0001-2-4-0-Which.tif\t\t\t        0001-7-4-3-genius.tif\n",
            " 0001-2-4-1-smoked.tif\t\t\t        0001-7-4-4-and.tif\n",
            " 0001-2-4-2-with.tif\t\t\t        0001-7-4-5-intellect.tif\n",
            " 0001-2-4-3-bloody.tif\t\t\t        0001-7-5-0-because.tif\n",
            " 0001-2-4-4-execution.tif\t\t        0001-7-5-1-you.tif\n",
            " 0001-2-5-0-Like.tif\t\t\t        0001-7-5-2-realised.tif\n",
            "\"0001-2-5-1-valour's.tif\"\t\t        0001-7-5-3-the.tif\n",
            " 0001-2-5-2-minion.tif\t\t\t        0001-7-5-4-dreams.tif\n",
            " 0001-2-5-3-carved.tif\t\t\t        0001-7-5-5-of.tif\n",
            " 0001-2-5-4-out.tif\t\t\t        0001-7-5-6-great.tif\n",
            " 0001-2-5-5-his.tif\t\t\t        0001-7-6-0-poets.tif\n",
            " 0001-2-5-6-passage.tif\t\t\t        0001-7-6-1-and.tif\n",
            " 0001-2-6-0-Till.tif\t\t\t        0001-7-6-2-gave.tif\n",
            " 0001-2-6-1-he.tif\t\t\t        0001-7-6-3-shape.tif\n",
            " 0001-2-6-2-faced.tif\t\t\t        0001-7-6-4-and.tif\n",
            " 0001-2-6-3-the.tif\t\t\t        0001-7-6-5-substance.tif\n",
            " 0001-2-6-4-slave.tif\t\t\t        0001-7-6-6-to.tif\n",
            " 0001-3-0-0-Mailüfterl.tif\t\t        0001-7-7-0-the.tif\n",
            " 0001-3-0-1-is.tif\t\t\t        0001-7-7-1-shadows.tif\n",
            " 0001-3-0-2-an.tif\t\t\t        0001-7-7-2-of.tif\n",
            " 0001-3-0-3-Austrian.tif\t\t        0001-7-7-3-art.tif\n",
            " 0001-3-0-4-nickname.tif\t\t        0001-7-7-4-You.tif\n",
            " 0001-3-0-5-for.tif\t\t\t        0001-7-7-5-have.tif\n",
            " 0001-3-0-6-the.tif\t\t\t        0001-7-7-6-thrown.tif\n",
            " 0001-3-10-1-Volltransistor-Rechenautomat.tif   0001-7-7-7-it.tif\n",
            " 0001-3-1-0-first.tif\t\t\t        0001-7-8-0-all.tif\n",
            " 0001-3-1-1-computer.tif\t\t        0001-7-8-1-away.tif\n",
            " 0001-3-1-2-working.tif\t\t\t        0001-7-8-2-You.tif\n",
            " 0001-3-1-3-solely.tif\t\t\t        0001-7-8-3-are.tif\n",
            " 0001-3-1-4-on.tif\t\t\t        0001-7-8-4-shallow.tif\n",
            " 0001-3-1-5-transistors.tif\t\t        0001-7-8-5-and.tif\n",
            " 0001-3-2-0-on.tif\t\t\t        0001-7-8-6-stupid.tif\n",
            " 0001-3-2-1-the.tif\t\t\t        0001-8-0-0-While.tif\n",
            " 0001-3-2-2-European.tif\t\t        0001-8-0-1-I.tif\n",
            " 0001-3-2-3-mainland.tif\t\t        0001-8-0-2-gazed.tif\n",
            " 0001-3-2-4-It.tif\t\t\t        0001-8-0-4-this.tif\n",
            " 0001-3-2-5-was.tif\t\t\t        0001-8-0-5-fissure.tif\n",
            " 0001-3-2-6-built.tif\t\t\t        0001-8-0-6-rapidly.tif\n",
            " 0001-3-2-7-in.tif\t\t\t        0001-8-10-0-of.tif\n",
            " 0001-3-3-0-1955.tif\t\t\t        0001-8-10-1-Usher.tif\n",
            " 0001-3-3-1-at.tif\t\t\t        0001-8-1-0-widened.tif\n",
            " 0001-3-3-2-the.tif\t\t\t        0001-8-1-2-there.tif\n",
            " 0001-3-3-3-Vienna.tif\t\t\t        0001-8-1-3-came.tif\n",
            " 0001-3-3-4-University.tif\t\t        0001-8-1-4-a.tif\n",
            " 0001-3-3-5-of.tif\t\t\t        0001-8-1-5-fierce.tif\n",
            " 0001-3-3-6-Technology.tif\t\t        0001-8-1-6-breath.tif\n",
            " 0001-3-3-7-by.tif\t\t\t        0001-8-1-7-of.tif\n",
            " 0001-3-4-0-Heinz.tif\t\t\t        0001-8-2-0-the.tif\n",
            " 0001-3-4-1-Zemanek.tif\t\t\t        0001-8-2-1-whirlwind.tif\n",
            " 0001-3-4-2-The.tif\t\t\t        0001-8-2-3-the.tif\n",
            " 0001-3-4-3-builder.tif\t\t\t        0001-8-2-4-entire.tif\n",
            " 0001-3-4-4-plays.tif\t\t\t        0001-8-2-5-orb.tif\n",
            " 0001-3-4-5-on.tif\t\t\t        0001-8-2-6-of.tif\n",
            " 0001-3-4-6-a.tif\t\t\t        0001-8-2-7-the.tif\n",
            " 0001-3-4-7-quote.tif\t\t\t        0001-8-3-0-satellite.tif\n",
            " 0001-3-5-0-on.tif\t\t\t        0001-8-3-1-burst.tif\n",
            " 0001-3-5-1-an.tif\t\t\t        0001-8-3-2-at.tif\n",
            " 0001-3-5-2-operating.tif\t\t        0001-8-3-3-once.tif\n",
            " 0001-3-5-3-computer.tif\t\t        0001-8-3-4-upon.tif\n",
            " 0001-3-5-4-If.tif\t\t\t        0001-8-3-5-my.tif\n",
            " 0001-3-5-5-it.tif\t\t\t        0001-8-3-6-sight.tif\n",
            " 0001-3-5-6-is.tif\t\t\t        0001-8-4-0-my.tif\n",
            " 0001-3-5-7-not.tif\t\t\t        0001-8-4-1-brain.tif\n",
            " 0001-3-6-0-the.tif\t\t\t        0001-8-4-2-reeled.tif\n",
            " 0001-3-6-1-rapid.tif\t\t\t        0001-8-4-3-as.tif\n",
            " 0001-3-6-2-calculation.tif\t\t        0001-8-4-4-I.tif\n",
            " 0001-3-6-3-speed.tif\t\t\t        0001-8-4-5-saw.tif\n",
            " 0001-3-6-4-of.tif\t\t\t        0001-8-4-6-the.tif\n",
            " 0001-3-6-5-American.tif\t\t        0001-8-4-7-mighty.tif\n",
            " 0001-3-6-6-models.tif\t\t\t        0001-8-5-0-walls.tif\n",
            " 0001-3-7-0-that.tif\t\t\t        0001-8-5-1-rushing.tif\n",
            " 0001-3-7-1-Whirlwind.tif\t\t        0001-8-5-2-asunder.tif\n",
            " 0001-3-7-2-or.tif\t\t\t        0001-8-5-4-there.tif\n",
            " 0001-3-7-3-Typhoon.tif\t\t\t        0001-8-5-5-was.tif\n",
            " 0001-3-7-4-can.tif\t\t\t        0001-8-5-6-a.tif\n",
            " 0001-3-7-5-achieve.tif\t\t\t        0001-8-5-7-long.tif\n",
            " 0001-3-7-6-it.tif\t\t\t        0001-8-6-0-tumultuous.tif\n",
            " 0001-3-8-0-will.tif\t\t\t        0001-8-6-1-shouting.tif\n",
            " 0001-3-8-1-be.tif\t\t\t        0001-8-6-2-sound.tif\n",
            " 0001-3-8-2-enough.tif\t\t\t        0001-8-6-3-like.tif\n",
            " 0001-3-8-3-for.tif\t\t\t        0001-8-6-4-the.tif\n",
            " 0001-3-8-4-a.tif\t\t\t        0001-8-6-5-voice.tif\n",
            " 0001-3-8-5-Wiener.tif\t\t\t        0001-8-7-0-of.tif\n",
            " 0001-3-8-6-Mailüfterl.tif\t\t        0001-8-7-1-a.tif\n",
            " 0001-3-9-0-The.tif\t\t\t        0001-8-7-2-thousand.tif\n",
            " 0001-3-9-1-full.tif\t\t\t        0001-8-7-3-waters.tif\n",
            " 0001-3-9-2-name.tif\t\t\t        0001-8-7-5-and.tif\n",
            " 0001-3-9-3-is.tif\t\t\t        0001-8-7-6-the.tif\n",
            " 0001-3-9-4-Binär.tif\t\t\t        0001-8-7-7-deep.tif\n",
            " 0001-3-9-6-dezimaler.tif\t\t        0001-8-8-0-and.tif\n",
            " 0001-4-0-0-When.tif\t\t\t        0001-8-8-1-dank.tif\n",
            " 0001-4-0-1-we.tif\t\t\t        0001-8-8-2-tarn.tif\n",
            " 0001-4-0-2-look.tif\t\t\t        0001-8-8-3-at.tif\n",
            " 0001-4-0-3-to.tif\t\t\t        0001-8-8-4-my.tif\n",
            " 0001-4-0-4-the.tif\t\t\t        0001-8-8-5-feet.tif\n",
            " 0001-4-0-5-individuals.tif\t\t        0001-8-8-6-closed.tif\n",
            " 0001-4-0-6-of.tif\t\t\t        0001-8-8-7-sullenly.tif\n",
            " 0001-4-0-7-the.tif\t\t\t        0001-8-9-0-and.tif\n",
            " 0001-4-1-0-same.tif\t\t\t        0001-8-9-1-silently.tif\n",
            " 0001-4-1-1-variety.tif\t\t\t        0001-8-9-2-over.tif\n",
            " 0001-4-1-2-or.tif\t\t\t        0001-8-9-3-the.tif\n",
            " 0001-4-1-3-sub-variety.tif\t\t        0001-8-9-4-fragments.tif\n",
            " 0001-4-1-4-of.tif\t\t\t        0001-8-9-5-of.tif\n",
            " 0001-4-1-5-our.tif\t\t\t        0001-8-9-6-the.tif\n",
            " 0001-4-1-6-older.tif\t\t\t        0001-8-9-7-House.tif\n"
          ],
          "name": "stdout"
        }
      ]
    },
    {
      "cell_type": "markdown",
      "metadata": {
        "id": "G9uBqzJSRZDo",
        "colab_type": "text"
      },
      "source": [
        "## Read image"
      ]
    },
    {
      "cell_type": "code",
      "metadata": {
        "id": "DXyLbRW3VrRs",
        "colab_type": "code",
        "colab": {}
      },
      "source": [
        "SHAPE = (120, 40)"
      ],
      "execution_count": 0,
      "outputs": []
    },
    {
      "cell_type": "code",
      "metadata": {
        "id": "e2Yv162AKl43",
        "colab_type": "code",
        "outputId": "515095d0-bc47-4002-8eb0-9f4b3cd96e66",
        "colab": {
          "base_uri": "https://localhost:8080/",
          "height": 239
        }
      },
      "source": [
        "PATH = 'cvl-database-1-1/trainset/words/0002/0002-1-0-0-Imagine.tif'\n",
        "img = plt.imread(PATH)\n",
        "\n",
        "plt.imshow(img)\n",
        "plt.show()\n",
        "\n",
        "print(img.shape)\n",
        "print(img[0][0])"
      ],
      "execution_count": 11,
      "outputs": [
        {
          "output_type": "display_data",
          "data": {
            "image/png": "[encoded data removed]",
            "text/plain": [
              "<Figure size 432x288 with 1 Axes>"
            ]
          },
          "metadata": {
            "tags": []
          }
        },
        {
          "output_type": "stream",
          "text": [
            "(101, 220, 3)\n",
            "[255 255 255]\n"
          ],
          "name": "stdout"
        }
      ]
    },
    {
      "cell_type": "code",
      "metadata": {
        "id": "h3muoonHNYgu",
        "colab_type": "code",
        "outputId": "b4dd798b-3f05-48dd-ef2b-866a500fb31c",
        "colab": {
          "base_uri": "https://localhost:8080/",
          "height": 239
        }
      },
      "source": [
        "img = cv2.imread(PATH, cv2.IMREAD_GRAYSCALE)\n",
        "\n",
        "plt.imshow(img)\n",
        "plt.show()\n",
        "print(img.shape)\n",
        "print(img[0][0])"
      ],
      "execution_count": 12,
      "outputs": [
        {
          "output_type": "display_data",
          "data": {
            "image/png": "[encoded data removed]",
            "text/plain": [
              "<Figure size 432x288 with 1 Axes>"
            ]
          },
          "metadata": {
            "tags": []
          }
        },
        {
          "output_type": "stream",
          "text": [
            "(101, 220)\n",
            "255\n"
          ],
          "name": "stdout"
        }
      ]
    },
    {
      "cell_type": "code",
      "metadata": {
        "id": "HZUrl0v2OQ8Q",
        "colab_type": "code",
        "colab": {}
      },
      "source": [
        "def read_image(path, to_shape=SHAPE):\n",
        "  \"\"\"\n",
        "  Read image from cvl database, normalize it, reshape to 120x40\n",
        "  Return (image, len_of_image)\n",
        "  \"\"\"\n",
        "  img = cv2.imread(path, cv2.IMREAD_GRAYSCALE)  # Read image as grayscale\n",
        "  img = img.astype('float32')\n",
        "  img /= 255.0\n",
        "  img = cv2.resize(src=img, dsize=to_shape, interpolation=cv2.INTER_AREA)  # Resize image with bicubic interpolation \n",
        "  name = path.split('-')[-1][:-4]\n",
        "  return (img, name)"
      ],
      "execution_count": 0,
      "outputs": []
    },
    {
      "cell_type": "code",
      "metadata": {
        "id": "ZgrEh24USdNj",
        "colab_type": "code",
        "outputId": "f4f5cd76-ed9e-4dda-ba87-866e9d3b526b",
        "colab": {
          "base_uri": "https://localhost:8080/",
          "height": 554
        }
      },
      "source": [
        "img, name = read_image(PATH)\n",
        "print(name)\n",
        "print(img.shape)\n",
        "plt.imshow(img)\n",
        "plt.show()\n",
        "print(img.shape)\n",
        "print(img[0])"
      ],
      "execution_count": 14,
      "outputs": [
        {
          "output_type": "stream",
          "text": [
            "Imagine\n",
            "(40, 120)\n"
          ],
          "name": "stdout"
        },
        {
          "output_type": "display_data",
          "data": {
            "image/png": "[encoded data removed]",
            "text/plain": [
              "<Figure size 432x288 with 1 Axes>"
            ]
          },
          "metadata": {
            "tags": []
          }
        },
        {
          "output_type": "stream",
          "text": [
            "(40, 120)\n",
            "[1.         1.         1.         1.         1.         1.\n",
            " 1.         1.         1.         1.         1.         1.\n",
            " 1.         1.         1.         1.         0.9815147  0.7697217\n",
            " 0.65295357 0.76888514 0.951021   1.         1.         1.\n",
            " 1.         1.         1.         1.         1.         1.\n",
            " 1.         1.         1.         1.         1.         1.\n",
            " 1.         1.         1.         1.         1.         1.\n",
            " 1.         1.         1.         1.         1.         1.\n",
            " 1.         1.         1.         1.         1.         1.\n",
            " 1.         1.         1.         1.         1.         1.\n",
            " 1.         1.         1.         1.         1.         1.\n",
            " 1.         1.         1.         1.         1.         1.\n",
            " 1.         1.         1.         1.         1.         1.\n",
            " 1.         1.         1.         1.         1.         1.\n",
            " 1.         1.         1.         1.         1.         1.\n",
            " 1.         1.         1.         1.         1.         1.\n",
            " 1.         1.         1.         1.         1.         1.\n",
            " 1.         1.         1.         1.         1.         1.\n",
            " 1.         1.         1.         1.         1.         1.\n",
            " 1.         1.         1.         1.         1.         1.        ]\n"
          ],
          "name": "stdout"
        }
      ]
    },
    {
      "cell_type": "code",
      "metadata": {
        "id": "n93gRcLqSl1_",
        "colab_type": "code",
        "outputId": "550c9de2-4a51-45cd-ac46-c4ebe220eeb4",
        "colab": {
          "base_uri": "https://localhost:8080/",
          "height": 554
        }
      },
      "source": [
        "PATH1 = 'cvl-database-1-1/trainset/words/0001/0001-6-2-2-du.tif'\n",
        "img, name = read_image(PATH1)\n",
        "print(name, len(name))\n",
        "print(img.shape)\n",
        "plt.imshow(img)\n",
        "plt.show()\n",
        "print(img.shape)\n",
        "print(img[0])"
      ],
      "execution_count": 15,
      "outputs": [
        {
          "output_type": "stream",
          "text": [
            "du 2\n",
            "(40, 120)\n"
          ],
          "name": "stdout"
        },
        {
          "output_type": "display_data",
          "data": {
            "image/png": "[encoded data removed]",
            "text/plain": [
              "<Figure size 432x288 with 1 Axes>"
            ]
          },
          "metadata": {
            "tags": []
          }
        },
        {
          "output_type": "stream",
          "text": [
            "(40, 120)\n",
            "[1.         1.         1.         1.         1.         1.\n",
            " 1.         1.         1.         1.         1.         1.\n",
            " 1.         1.         1.         1.         1.         1.\n",
            " 1.         1.         1.         1.         1.         1.\n",
            " 1.         1.         1.         1.         1.         1.\n",
            " 1.         1.         1.         1.         1.         1.\n",
            " 1.         1.         1.         1.         1.         0.9994528\n",
            " 0.9960785  0.9237485  0.8464991  0.74871206 0.71982515 0.79017377\n",
            " 0.870928   0.99407923 0.9986231  1.         1.         1.\n",
            " 1.         1.         1.         1.         1.         1.\n",
            " 1.         1.         1.         1.         1.         1.\n",
            " 1.         1.         1.         1.         1.         1.\n",
            " 1.         1.         1.         1.         1.         1.\n",
            " 1.         1.         1.         1.         1.         1.\n",
            " 1.         1.         1.         1.         1.         1.\n",
            " 1.         1.         1.         1.         1.         1.\n",
            " 1.         1.         1.         1.         1.         1.\n",
            " 1.         1.         1.         1.         1.         1.\n",
            " 1.         1.         1.         1.         1.         1.\n",
            " 1.         1.         1.         1.         1.         1.        ]\n"
          ],
          "name": "stdout"
        }
      ]
    },
    {
      "cell_type": "markdown",
      "metadata": {
        "id": "DQ_b4mWtYKy9",
        "colab_type": "text"
      },
      "source": [
        "## Read data"
      ]
    },
    {
      "cell_type": "code",
      "metadata": {
        "id": "4sF9x25wYKZv",
        "colab_type": "code",
        "colab": {}
      },
      "source": [
        "images = []\n",
        "writers = []\n",
        "words = []\n",
        "lengths = []"
      ],
      "execution_count": 0,
      "outputs": []
    },
    {
      "cell_type": "code",
      "metadata": {
        "id": "JrSx1dz9Y-ZQ",
        "colab_type": "code",
        "colab": {}
      },
      "source": [
        "TRAINPATH = './cvl-database-1-1/trainset/words'\n",
        "TESTPATH = './cvl-database-1-1/testset/words'"
      ],
      "execution_count": 0,
      "outputs": []
    },
    {
      "cell_type": "code",
      "metadata": {
        "id": "UGURRMnIZQ6O",
        "colab_type": "code",
        "outputId": "55a28e08-5dd3-451b-aab2-e226e98944c2",
        "colab": {
          "base_uri": "https://localhost:8080/",
          "height": 54
        }
      },
      "source": [
        "print(os.listdir(TRAINPATH))"
      ],
      "execution_count": 18,
      "outputs": [
        {
          "output_type": "stream",
          "text": [
            "['0028', '0024', '0004', '0003', '0005', '0025', '0018', '0027', '0016', '0012', '0050', '0026', '0020', '0021', '0041', '0006', '0042', '0022', '0023', '0014', '0029', '0002', '0015', '0001', '0047', '0013', '0017']\n"
          ],
          "name": "stdout"
        }
      ]
    },
    {
      "cell_type": "code",
      "metadata": {
        "id": "A4n83_zcZS7H",
        "colab_type": "code",
        "outputId": "986e6060-ac3b-4c7c-a5d5-e9aa07d35ab9",
        "colab": {
          "base_uri": "https://localhost:8080/",
          "height": 51
        }
      },
      "source": [
        "%%time\n",
        "for writer in os.listdir(TRAINPATH):\n",
        "  writer_path = os.path.join(TRAINPATH, writer)\n",
        "  for image in os.listdir(writer_path):\n",
        "    image_path = os.path.join(writer_path, image)\n",
        "    img, name = read_image(image_path)\n",
        "    \n",
        "    # Add image to dataset\n",
        "    images.append(img)\n",
        "    writers.append(int(writer))\n",
        "    words.append(name)\n",
        "    lengths.append(len(name))"
      ],
      "execution_count": 19,
      "outputs": [
        {
          "output_type": "stream",
          "text": [
            "CPU times: user 5.87 s, sys: 792 ms, total: 6.66 s\n",
            "Wall time: 6.67 s\n"
          ],
          "name": "stdout"
        }
      ]
    },
    {
      "cell_type": "code",
      "metadata": {
        "id": "iCURsO0QZnY8",
        "colab_type": "code",
        "outputId": "60f3f3eb-3b64-4fdc-9c84-22a90c2cf576",
        "colab": {
          "base_uri": "https://localhost:8080/",
          "height": 51
        }
      },
      "source": [
        "%%time\n",
        "for writer in os.listdir(TESTPATH):\n",
        "  writer_path = os.path.join(TESTPATH, writer)\n",
        "  for image in os.listdir(writer_path):\n",
        "    image_path = os.path.join(writer_path, image)\n",
        "    img, name = read_image(image_path)\n",
        "    \n",
        "    # Add image to dataset\n",
        "    images.append(img)\n",
        "    writers.append(int(writer))\n",
        "    words.append(name)\n",
        "    lengths.append(len(name))"
      ],
      "execution_count": 20,
      "outputs": [
        {
          "output_type": "stream",
          "text": [
            "CPU times: user 44.9 s, sys: 6.36 s, total: 51.3 s\n",
            "Wall time: 51.4 s\n"
          ],
          "name": "stdout"
        }
      ]
    },
    {
      "cell_type": "code",
      "metadata": {
        "id": "HF2k4RBwav3-",
        "colab_type": "code",
        "outputId": "c94997f4-0456-49f2-9e62-7f5c1745b0fb",
        "colab": {
          "base_uri": "https://localhost:8080/",
          "height": 34
        }
      },
      "source": [
        "len(images), len(writers), len(words), len(lengths)"
      ],
      "execution_count": 21,
      "outputs": [
        {
          "output_type": "execute_result",
          "data": {
            "text/plain": [
              "(99904, 99904, 99904, 99904)"
            ]
          },
          "metadata": {
            "tags": []
          },
          "execution_count": 21
        }
      ]
    },
    {
      "cell_type": "code",
      "metadata": {
        "id": "mNyHgsB-bFB5",
        "colab_type": "code",
        "outputId": "2878c731-b727-4b17-908f-ebed259bc2c1",
        "colab": {
          "base_uri": "https://localhost:8080/",
          "height": 214
        }
      },
      "source": [
        "idx = np.random.randint(len(images))\n",
        "plt.imshow(images[idx])\n",
        "plt.show()\n",
        "print(writers[idx])\n",
        "print(words[idx])\n",
        "print(lengths[idx])"
      ],
      "execution_count": 22,
      "outputs": [
        {
          "output_type": "display_data",
          "data": {
            "image/png": "[encoded data removed]",
            "text/plain": [
              "<Figure size 432x288 with 1 Axes>"
            ]
          },
          "metadata": {
            "tags": []
          }
        },
        {
          "output_type": "stream",
          "text": [
            "221\n",
            "look\n",
            "4\n"
          ],
          "name": "stdout"
        }
      ]
    },
    {
      "cell_type": "code",
      "metadata": {
        "id": "ABOg3r8rcSKj",
        "colab_type": "code",
        "outputId": "e971d094-3254-417f-c62a-02680ff2c26b",
        "colab": {
          "base_uri": "https://localhost:8080/",
          "height": 71
        }
      },
      "source": [
        "print(len(set(words)))\n",
        "print(set(words))"
      ],
      "execution_count": 23,
      "outputs": [
        {
          "output_type": "stream",
          "text": [
            "343\n",
            "{'surface', 'great', '', 'vated', 'they', 'The', 'operating', 'is', 'sheet', 'you', 'schallen', 'built', 'his', 'was', 'puter', 'gons', 'country', 'Austrian', 'sing', 'should', 'universe', 'shape', 'verse', 'nickname', 'slave', 'mind', 'men', 'quote', 'Usher', 'Fesseln', 'poets', 'be', 'in', 'we', 'fallen', 'pean', 'maler', 'instead', 'dezimaler', 'ieve', 'fragments', 'than', 'realised', 'Dienstes', 'automat', 'correct', 'weak', 'European', 'walls', 'nature', 'magst', 'intellect', 'widened', 'While', 'by', 'dows', 'a', 'name', 'genius', 'then', 'variety', 'Augenblicke', 'smiling', 'he', 'generally', 'orb', 'calculation', 'für', 'our', 'not', 'logy', 'mighty', 'du', 'gehn', 'fortune', 'tomat', 'solely', 'Pentagons', 'Zemanek', 'schlagen', 'deserves', 'freely', 'were', \"all's\", 'Rechenautomat', 'Grunde', 'stehn', 'shadows', 'more', 'vorbey', 'said', 'paper', 'plants', 'Verweile', 'tarn', 'views', 'only', 'dank', 'of', 'brain', 'hard', \"valour's\", 'loved', 'Uhr', 'minion', 'rapid', 'species', 'one', 'mainland', 'faced', 'closed', 'killed', 'silently', 'places', 'deep', 'I', 'has', 'Whirlwind', 'first', 'dreams', 'now', 'Es', 'edges', 'state', 'feet', 'over', 'transistors', 'passage', 'my', 'very', 'shouting', 'University', 'versity', 'sinking', 'are', 'Triangles', 'countrymen', 'older', 'at', 'ures', \"Show'd\", 'Typhoon', 'used', 'like', 'upon', 'other', 'each', 'computer', 'damned', 'whirlwind', 'fixed', 'frey', 'sistors', 'der', 'builder', 'about', 'their', 'luminous', 'imagination', 'power', 'models', 'there', 'Which', 'zum', 'die', 'figures', 'zu', 'Technology', 'marvellous', 'erally', 'schön', 'any', 'from', 'shallow', 'pretty', 'Todtenglocke', 'working', 'sullenly', 'mich', 'Zeiger', 'waters', \"brandish'd\", 'long', 'sight', 'daining', \"dish'd\", 'ich', 'steel', 'no', 'which', 'been', 'opened', 'American', 'reeled', 'Vienna', 'smoked', 'us', 'substance', 'strikes', 'rapidly', 'things', 'will', 'plays', 'thousand', 'ating', \"rebel's\", 'sagen', 'sound', 'notion', 'and', 'tumultuous', 'bloody', 'voice', 'enough', 'And', 'can', 'Till', 'but', 'too', 'Squares', 'gave', 'differ', 'ing', 'sey', 'ace', 'all', \"don't\", 'Werd', 'move', 'Mailüfterl', 'imaler', 'this', 'rising', 'do', 'away', 'achieve', 'Imagine', 'land', 'nology', 'It', 'House', 'lüfterl', 'brave', 'mag', 'that', 'gern', 'erating', 'straight', 'carved', 'mat', 'Like', 'king', 'When', 'Nomacs', 'Binär', 'mals', 'wind', 'the', 'glocke', 'deines', 'because', 'higher', 'angles', 'few', 'doch', 'saw', 'came', 'years', 'as', 'For', 'satellite', 'quarrel', 'vast', 'asunder', 'curiosity', 'on', 'to', 'If', 'well', 'produce', 'full', 'Zeit', 'ation', 'ned', 'individuals', 'without', 'points', 'dividuals', 'tion', 'rushing', 'same', 'bist', 'Dann', 'minous', '1955', 'so', 'much', 'Lines', 'below', 'once', 'Die', 'Disdaining', 'it', 'speed', 'Now', 'maining', 'even', 'or', 'look', 'cultivated', 'Wiener', 'have', 'animals', 'burst', 'whore', 'fissure', 'effect', 'Alas', \"ish'd\", 'fierce', 'Heinz', 'ago', 'thrown', 'face', 'for', 'execution', 'out', 'stupid', 'remaining', 'You', 'gazed', 'simply', 'entire', 'with', 'breath', 'had', 'Hexagons', 'an', 'cution', 'above', 'love', 'art', 'stir'}\n"
          ],
          "name": "stdout"
        }
      ]
    },
    {
      "cell_type": "code",
      "metadata": {
        "id": "I-KDDBqycZkM",
        "colab_type": "code",
        "outputId": "8a28fd0d-1eae-4f06-d575-b3500265d338",
        "colab": {
          "base_uri": "https://localhost:8080/",
          "height": 34
        }
      },
      "source": [
        "MAX_LENGTH = max(lengths)\n",
        "MAX_LENGTH"
      ],
      "execution_count": 24,
      "outputs": [
        {
          "output_type": "execute_result",
          "data": {
            "text/plain": [
              "13"
            ]
          },
          "metadata": {
            "tags": []
          },
          "execution_count": 24
        }
      ]
    },
    {
      "cell_type": "code",
      "metadata": {
        "id": "sYuWVsf0cmg_",
        "colab_type": "code",
        "outputId": "60057398-57fc-4bad-fd63-b34c411943a4",
        "colab": {
          "base_uri": "https://localhost:8080/",
          "height": 34
        }
      },
      "source": [
        "MAX_WRITER = len(set(writers))  # It's ok\n",
        "MAX_WRITER"
      ],
      "execution_count": 25,
      "outputs": [
        {
          "output_type": "execute_result",
          "data": {
            "text/plain": [
              "310"
            ]
          },
          "metadata": {
            "tags": []
          },
          "execution_count": 25
        }
      ]
    },
    {
      "cell_type": "code",
      "metadata": {
        "id": "O-pTuCvmcsuX",
        "colab_type": "code",
        "outputId": "dce6d86b-bfdd-4455-8ccb-2d0ed4005c3f",
        "colab": {
          "base_uri": "https://localhost:8080/",
          "height": 34
        }
      },
      "source": [
        "import sys\n",
        "sys.getsizeof(images)/1024/1024"
      ],
      "execution_count": 26,
      "outputs": [
        {
          "output_type": "execute_result",
          "data": {
            "text/plain": [
              "0.7862701416015625"
            ]
          },
          "metadata": {
            "tags": []
          },
          "execution_count": 26
        }
      ]
    },
    {
      "cell_type": "code",
      "metadata": {
        "id": "IiJM0oFfc-fF",
        "colab_type": "code",
        "outputId": "ba3a5d44-aca3-4dd5-d322-39027fab02f4",
        "colab": {
          "base_uri": "https://localhost:8080/",
          "height": 34
        }
      },
      "source": [
        "np.array(images).shape"
      ],
      "execution_count": 27,
      "outputs": [
        {
          "output_type": "execute_result",
          "data": {
            "text/plain": [
              "(99904, 40, 120)"
            ]
          },
          "metadata": {
            "tags": []
          },
          "execution_count": 27
        }
      ]
    },
    {
      "cell_type": "markdown",
      "metadata": {
        "id": "8ZiRbRBX3M6I",
        "colab_type": "text"
      },
      "source": [
        "# Split data"
      ]
    },
    {
      "cell_type": "markdown",
      "metadata": {
        "id": "ccd1KGyOqa8F",
        "colab_type": "text"
      },
      "source": [
        "## words>20"
      ]
    },
    {
      "cell_type": "code",
      "metadata": {
        "id": "Ka4TwMW73Ou7",
        "colab_type": "code",
        "colab": {}
      },
      "source": [
        "unique, counts = np.unique(words, return_counts=True)"
      ],
      "execution_count": 0,
      "outputs": []
    },
    {
      "cell_type": "code",
      "metadata": {
        "id": "_a4WnD3L3Opl",
        "colab_type": "code",
        "outputId": "e674fc65-bb36-4ceb-9a53-2e37c6e96cb8",
        "colab": {
          "base_uri": "https://localhost:8080/",
          "height": 54
        }
      },
      "source": [
        "print(dict(zip(unique, counts)))"
      ],
      "execution_count": 29,
      "outputs": [
        {
          "output_type": "stream",
          "text": [
            "{'': 314, '1955': 303, 'Alas': 310, 'American': 308, 'And': 309, 'Augenblicke': 309, 'Austrian': 308, 'Binär': 307, 'Dann': 1231, 'Die': 308, 'Dienstes': 308, 'Disdaining': 307, 'Es': 308, 'European': 305, 'Fesseln': 309, 'For': 309, 'Grunde': 307, 'Heinz': 306, 'Hexagons': 308, 'House': 27, 'I': 390, 'If': 306, 'Imagine': 310, 'It': 305, 'Like': 308, 'Lines': 309, 'Mailüfterl': 614, 'Nomacs': 309, 'Now': 27, 'Pentagons': 306, 'Rechenautomat': 288, \"Show'd\": 309, 'Squares': 307, 'Technology': 300, 'The': 615, 'Till': 309, 'Todtenglocke': 306, 'Triangles': 303, 'Typhoon': 306, 'Uhr': 308, 'University': 302, 'Usher': 27, 'Verweile': 309, 'Vienna': 299, 'Werd': 309, 'When': 308, 'Which': 303, 'While': 27, 'Whirlwind': 302, 'Wiener': 308, 'You': 135, 'Zeiger': 308, 'Zeit': 308, 'Zemanek': 306, 'a': 2230, 'about': 308, 'above': 307, 'ace': 1, 'achieve': 304, 'ago': 309, 'all': 27, \"all's\": 308, 'an': 616, 'and': 1728, 'angles': 1, 'animals': 307, 'any': 307, 'are': 27, 'art': 27, 'as': 27, 'asunder': 27, 'at': 357, 'ating': 2, 'ation': 1, 'automat': 14, 'away': 27, 'be': 307, 'because': 81, 'been': 306, 'below': 306, 'bist': 617, 'bloody': 308, 'brain': 27, \"brandish'd\": 302, 'brave': 309, 'breath': 27, 'builder': 307, 'built': 305, 'burst': 27, 'but': 927, 'by': 302, 'calculation': 306, 'came': 27, 'can': 304, 'carved': 308, 'closed': 27, 'computer': 611, 'correct': 310, 'country': 309, 'countrymen': 304, 'cultivated': 304, 'curiosity': 27, 'cution': 2, 'daining': 1, 'damned': 309, 'dank': 27, 'deep': 27, 'deines': 308, 'der': 308, 'deserves': 308, 'dezimaler': 304, 'die': 612, 'differ': 305, \"dish'd\": 1, 'dividuals': 1, 'do': 308, 'doch': 309, \"don't\": 27, 'dows': 1, 'dreams': 27, 'du': 926, 'each': 308, 'edges': 310, 'effect': 27, 'enough': 307, 'entire': 27, 'erally': 1, 'erating': 1, 'even': 27, 'execution': 306, 'face': 3, 'faced': 309, 'fallen': 308, 'feet': 27, 'few': 309, 'fierce': 27, 'figures': 309, 'first': 616, 'fissure': 27, 'fixed': 310, 'for': 615, 'fortune': 617, 'fragments': 27, 'freely': 308, 'frey': 308, 'from': 308, 'full': 308, 'für': 308, 'gave': 27, 'gazed': 27, 'gehn': 307, 'generally': 303, 'genius': 27, 'gern': 304, 'glocke': 1, 'gons': 2, 'great': 27, 'had': 27, 'hard': 310, 'has': 308, 'have': 669, 'he': 617, 'higher': 310, 'his': 919, 'ich': 617, 'ieve': 1, 'imagination': 26, 'imaler': 1, 'in': 1530, 'individuals': 615, 'ing': 1, 'instead': 309, 'intellect': 27, 'is': 1225, \"ish'd\": 1, 'it': 943, 'killed': 27, 'king': 1, 'land': 1, 'like': 645, 'logy': 1, 'long': 27, 'look': 308, 'love': 27, 'loved': 27, 'luminous': 309, 'lüfterl': 2, 'mag': 613, 'magst': 309, 'maining': 1, 'mainland': 305, 'maler': 1, 'mals': 1, 'marvellous': 27, 'mat': 4, 'men': 6, 'mich': 617, 'mighty': 27, 'mind': 310, 'minion': 308, 'minous': 1, 'models': 307, 'more': 308, 'move': 307, 'much': 617, 'my': 1090, 'name': 616, 'nature': 308, 'ned': 1, 'nickname': 306, 'no': 27, 'nology': 1, 'not': 305, 'notion': 310, 'now': 307, 'of': 3875, 'older': 303, 'on': 2146, 'once': 27, 'one': 600, 'only': 310, 'opened': 309, 'operating': 304, 'or': 1524, 'orb': 27, 'other': 617, 'our': 305, 'out': 310, 'over': 27, 'paper': 310, 'passage': 308, 'pean': 1, 'places': 308, 'plants': 307, 'plays': 308, 'poets': 27, 'points': 307, 'power': 307, 'pretty': 307, 'produce': 27, 'puter': 2, 'quarrel': 308, 'quote': 306, 'rapid': 308, 'rapidly': 27, 'realised': 27, \"rebel's\": 309, 'reeled': 27, 'remaining': 309, 'rising': 307, 'rushing': 27, 'sagen': 309, 'said': 307, 'same': 307, 'satellite': 27, 'saw': 27, 'schallen': 307, 'schlagen': 309, 'schön': 309, 'sey': 308, 'shadows': 336, 'shallow': 27, 'shape': 27, 'sheet': 310, 'should': 309, 'shouting': 27, 'sight': 27, 'silently': 27, 'simply': 27, 'sing': 1, 'sinking': 306, 'sistors': 1, 'slave': 309, 'smiling': 309, 'smoked': 303, 'so': 301, 'solely': 306, 'sound': 26, 'species': 306, 'speed': 307, 'state': 308, 'steel': 304, 'stehn': 308, 'stir': 54, 'straight': 310, 'strikes': 307, 'stupid': 27, 'substance': 27, 'sullenly': 27, 'surface': 304, 'tarn': 27, 'than': 308, 'that': 921, 'the': 3636, 'their': 310, 'then': 308, 'there': 54, 'they': 301, 'things': 308, 'this': 27, 'thousand': 27, 'thrown': 27, 'tion': 1, 'to': 670, 'tomat': 2, 'too': 309, 'transistors': 303, 'tumultuous': 27, 'universe': 308, 'upon': 27, 'ures': 1, 'us': 306, 'used': 27, \"valour's\": 308, 'variety': 909, 'vast': 309, 'vated': 1, 'verse': 1, 'versity': 1, 'very': 306, 'views': 308, 'voice': 27, 'vorbey': 308, 'walls': 27, 'was': 332, 'waters': 27, 'we': 308, 'weak': 309, 'well': 309, 'were': 27, 'which': 617, 'whirlwind': 26, 'whore': 309, 'widened': 27, 'will': 925, 'wind': 7, 'with': 917, 'without': 306, 'working': 305, 'years': 308, 'you': 444, 'zu': 307, 'zum': 309}\n"
          ],
          "name": "stdout"
        }
      ]
    },
    {
      "cell_type": "code",
      "metadata": {
        "id": "SBGuasGG3Ojq",
        "colab_type": "code",
        "colab": {}
      },
      "source": [
        "MIN_WORDS = 20"
      ],
      "execution_count": 0,
      "outputs": []
    },
    {
      "cell_type": "code",
      "metadata": {
        "id": "0WESpBso3OeT",
        "colab_type": "code",
        "outputId": "0bbe0df0-33d7-40a9-a856-336596dccc41",
        "colab": {
          "base_uri": "https://localhost:8080/",
          "height": 71
        }
      },
      "source": [
        "drop_words = dict(map(lambda x: x, filter(lambda x: x[1]<=MIN_WORDS, list(zip(unique, counts)))))\n",
        "print(drop_words)\n",
        "print(drop_words.keys())"
      ],
      "execution_count": 31,
      "outputs": [
        {
          "output_type": "stream",
          "text": [
            "{'ace': 1, 'angles': 1, 'ating': 2, 'ation': 1, 'automat': 14, 'cution': 2, 'daining': 1, \"dish'd\": 1, 'dividuals': 1, 'dows': 1, 'erally': 1, 'erating': 1, 'face': 3, 'glocke': 1, 'gons': 2, 'ieve': 1, 'imaler': 1, 'ing': 1, \"ish'd\": 1, 'king': 1, 'land': 1, 'logy': 1, 'lüfterl': 2, 'maining': 1, 'maler': 1, 'mals': 1, 'mat': 4, 'men': 6, 'minous': 1, 'ned': 1, 'nology': 1, 'pean': 1, 'puter': 2, 'sing': 1, 'sistors': 1, 'tion': 1, 'tomat': 2, 'ures': 1, 'vated': 1, 'verse': 1, 'versity': 1, 'wind': 7}\n",
            "dict_keys(['ace', 'angles', 'ating', 'ation', 'automat', 'cution', 'daining', \"dish'd\", 'dividuals', 'dows', 'erally', 'erating', 'face', 'glocke', 'gons', 'ieve', 'imaler', 'ing', \"ish'd\", 'king', 'land', 'logy', 'lüfterl', 'maining', 'maler', 'mals', 'mat', 'men', 'minous', 'ned', 'nology', 'pean', 'puter', 'sing', 'sistors', 'tion', 'tomat', 'ures', 'vated', 'verse', 'versity', 'wind'])\n"
          ],
          "name": "stdout"
        }
      ]
    },
    {
      "cell_type": "code",
      "metadata": {
        "id": "zJ1_1TTtkGay",
        "colab_type": "code",
        "outputId": "69918763-2bc1-4654-9180-fbe8828c8fa2",
        "colab": {
          "base_uri": "https://localhost:8080/",
          "height": 34
        }
      },
      "source": [
        "sum(drop_words.values())"
      ],
      "execution_count": 32,
      "outputs": [
        {
          "output_type": "execute_result",
          "data": {
            "text/plain": [
              "77"
            ]
          },
          "metadata": {
            "tags": []
          },
          "execution_count": 32
        }
      ]
    },
    {
      "cell_type": "code",
      "metadata": {
        "id": "8OKJyTGBjTF_",
        "colab_type": "code",
        "outputId": "6790b73c-d048-46e7-9f0f-2b92f2903846",
        "colab": {
          "base_uri": "https://localhost:8080/",
          "height": 71
        }
      },
      "source": [
        "idx = []\n",
        "for i in range(len(words)):\n",
        "  if words[i] in drop_words.keys():\n",
        "    idx.append(i)\n",
        "print(idx)\n",
        "print(len(idx))"
      ],
      "execution_count": 33,
      "outputs": [
        {
          "output_type": "stream",
          "text": [
            "[1085, 2593, 2629, 2632, 4691, 4729, 5787, 9007, 10148, 11593, 12833, 13791, 15705, 15870, 18374, 19105, 19133, 19531, 20729, 20854, 21230, 21231, 21313, 22048, 22625, 23197, 24059, 24098, 28358, 28442, 28927, 30056, 31361, 32860, 33288, 37010, 37767, 37812, 38040, 39416, 44056, 44495, 46239, 51554, 51902, 51972, 51995, 52022, 53064, 58108, 64737, 68182, 68211, 68365, 71867, 74177, 74227, 78703, 78758, 81610, 82699, 83793, 84594, 84763, 85858, 87140, 88635, 90849, 90915, 92582, 95989, 96542, 96680, 97362, 97381, 98140, 98277]\n",
            "77\n"
          ],
          "name": "stdout"
        }
      ]
    },
    {
      "cell_type": "code",
      "metadata": {
        "id": "T06W_DQbk9b2",
        "colab_type": "code",
        "colab": {}
      },
      "source": [
        "images = np.delete(images, idx, axis=0)\n",
        "writers = np.delete(writers, idx, axis=0)\n",
        "words = np.delete(words, idx, axis=0)\n",
        "lengths = np.delete(lengths, idx, axis=0)"
      ],
      "execution_count": 0,
      "outputs": []
    },
    {
      "cell_type": "code",
      "metadata": {
        "id": "4CHyIvOilTUu",
        "colab_type": "code",
        "outputId": "a9b82333-9f50-4e29-cc01-5c067a07f8a8",
        "colab": {
          "base_uri": "https://localhost:8080/",
          "height": 34
        }
      },
      "source": [
        "len(images), len(writers), len(words), len(lengths)"
      ],
      "execution_count": 35,
      "outputs": [
        {
          "output_type": "execute_result",
          "data": {
            "text/plain": [
              "(99827, 99827, 99827, 99827)"
            ]
          },
          "metadata": {
            "tags": []
          },
          "execution_count": 35
        }
      ]
    },
    {
      "cell_type": "markdown",
      "metadata": {
        "id": "YzefIBWrqefN",
        "colab_type": "text"
      },
      "source": [
        "## lengths>0"
      ]
    },
    {
      "cell_type": "code",
      "metadata": {
        "id": "iNpxu4DOqorf",
        "colab_type": "code",
        "outputId": "31915834-44c6-44c9-ea1d-6d8e3cb814c2",
        "colab": {
          "base_uri": "https://localhost:8080/",
          "height": 71
        }
      },
      "source": [
        "idx = []\n",
        "for i in range(len(lengths)):\n",
        "  if lengths[i]==0:\n",
        "    idx.append(i)\n",
        "print(idx)\n",
        "print(len(idx))"
      ],
      "execution_count": 36,
      "outputs": [
        {
          "output_type": "stream",
          "text": [
            "[699, 1165, 1232, 1402, 2301, 2373, 2390, 3305, 4735, 4937, 5229, 5764, 9399, 10124, 11316, 12273, 12681, 12909, 12928, 13157, 13410, 13747, 14030, 14641, 15229, 15367, 15573, 15608, 15750, 16231, 16585, 17131, 17709, 17989, 18171, 18642, 18795, 18967, 19077, 19115, 19466, 19781, 20208, 20766, 20801, 20964, 21057, 21142, 21276, 21426, 22097, 22344, 22624, 22991, 23161, 23194, 23315, 23671, 23837, 23923, 24034, 24434, 24579, 25128, 25659, 25759, 26314, 26571, 27137, 27853, 28050, 28390, 28438, 28459, 28804, 28889, 28890, 29705, 29809, 30088, 30959, 31010, 31604, 31868, 31962, 32597, 32839, 32924, 33431, 33654, 34040, 34181, 34656, 34995, 35080, 35533, 36312, 36674, 37200, 37754, 37789, 37840, 37910, 37929, 38229, 38644, 39065, 39223, 39351, 39530, 39891, 40265, 40362, 41305, 41638, 42014, 42181, 42413, 42840, 42905, 43447, 43573, 43917, 44445, 44676, 44820, 45191, 45256, 45542, 45833, 46086, 46443, 46836, 46883, 47494, 48023, 48182, 48471, 49000, 49102, 49450, 49835, 50085, 50318, 50696, 51242, 51310, 51947, 52012, 52060, 52096, 52131, 52399, 52732, 52893, 53039, 53139, 53577, 54164, 54489, 54742, 55079, 55466, 55720, 56147, 56349, 56791, 56977, 57212, 57809, 57950, 58151, 58462, 58872, 59295, 59396, 60034, 60486, 60569, 60596, 61075, 61303, 61763, 62059, 62186, 62704, 63047, 63106, 63534, 63749, 64608, 64688, 64761, 64766, 65179, 65399, 65710, 65941, 66318, 66743, 67611, 67967, 68115, 68183, 68223, 68270, 68364, 68518, 68974, 69294, 69557, 69994, 70427, 71270, 71485, 71986, 71994, 72578, 73021, 73401, 73754, 74106, 74180, 74370, 74970, 75391, 75631, 75834, 76215, 76447, 76857, 77194, 77571, 77737, 78141, 78510, 78742, 78794, 78891, 79339, 79932, 80409, 80717, 80836, 81289, 81469, 81678, 81707, 82293, 82810, 83186, 83307, 83799, 83973, 84260, 84598, 84653, 85176, 85577, 85775, 85862, 86226, 86526, 86986, 87074, 87225, 87835, 88085, 88520, 88644, 88711, 89012, 89293, 89800, 90279, 90577, 90757, 90763, 91064, 91251, 91379, 91795, 92221, 92404, 92566, 93180, 93282, 93602, 93940, 94115, 94577, 94842, 95330, 95402, 95841, 95958, 96059, 96384, 96579, 96826, 96875, 97120, 97135, 97266, 97311, 97489, 98063, 98156, 98197, 98240, 98398, 99091, 99313, 99679]\n",
            "314\n"
          ],
          "name": "stdout"
        }
      ]
    },
    {
      "cell_type": "code",
      "metadata": {
        "id": "VF048OKoqogb",
        "colab_type": "code",
        "outputId": "6d37d772-40ec-47be-9ecb-68d41747e0da",
        "colab": {
          "base_uri": "https://localhost:8080/",
          "height": 34
        }
      },
      "source": [
        "words[699]"
      ],
      "execution_count": 37,
      "outputs": [
        {
          "output_type": "execute_result",
          "data": {
            "text/plain": [
              "''"
            ]
          },
          "metadata": {
            "tags": []
          },
          "execution_count": 37
        }
      ]
    },
    {
      "cell_type": "code",
      "metadata": {
        "id": "SF3O9nk2rIad",
        "colab_type": "code",
        "colab": {}
      },
      "source": [
        "images = np.delete(images, idx, axis=0)\n",
        "writers = np.delete(writers, idx, axis=0)\n",
        "words = np.delete(words, idx, axis=0)\n",
        "lengths = np.delete(lengths, idx, axis=0)"
      ],
      "execution_count": 0,
      "outputs": []
    },
    {
      "cell_type": "code",
      "metadata": {
        "id": "jxdlTKSGrLyx",
        "colab_type": "code",
        "outputId": "3037bd18-d12e-4a24-c1f7-0079306b54ef",
        "colab": {
          "base_uri": "https://localhost:8080/",
          "height": 34
        }
      },
      "source": [
        "len(images), len(writers), len(words), len(lengths)  # 99_513 its ok!"
      ],
      "execution_count": 39,
      "outputs": [
        {
          "output_type": "execute_result",
          "data": {
            "text/plain": [
              "(99513, 99513, 99513, 99513)"
            ]
          },
          "metadata": {
            "tags": []
          },
          "execution_count": 39
        }
      ]
    },
    {
      "cell_type": "markdown",
      "metadata": {
        "id": "teZBRGxMqmeV",
        "colab_type": "text"
      },
      "source": [
        "## train_test_split"
      ]
    },
    {
      "cell_type": "code",
      "metadata": {
        "id": "IYShKfXDBpG_",
        "colab_type": "code",
        "outputId": "9d04c843-3e3d-439f-eeb7-eace4cabb4cc",
        "colab": {
          "base_uri": "https://localhost:8080/",
          "height": 34
        }
      },
      "source": [
        "images_train, images_test, writers_lengths_train, writers_lengths_test = model_selection.train_test_split(images, np.array(list(zip(writers, lengths))), random_state=seed_value, test_size=0.288, stratify=writers)\n",
        "images_train.shape, images_test.shape, writers_lengths_train.shape, writers_lengths_test.shape"
      ],
      "execution_count": 40,
      "outputs": [
        {
          "output_type": "execute_result",
          "data": {
            "text/plain": [
              "((70853, 40, 120), (28660, 40, 120), (70853, 2), (28660, 2))"
            ]
          },
          "metadata": {
            "tags": []
          },
          "execution_count": 40
        }
      ]
    },
    {
      "cell_type": "code",
      "metadata": {
        "id": "6RjC9uIiB_75",
        "colab_type": "code",
        "outputId": "8862fd85-e21a-49a8-90d0-1c28974b244b",
        "colab": {
          "base_uri": "https://localhost:8080/",
          "height": 187
        }
      },
      "source": [
        "writers_lengths_train[:10]"
      ],
      "execution_count": 41,
      "outputs": [
        {
          "output_type": "execute_result",
          "data": {
            "text/plain": [
              "array([[387,   3],\n",
              "       [180,   6],\n",
              "       [165,   6],\n",
              "       [242,   7],\n",
              "       [935,   2],\n",
              "       [254,   7],\n",
              "       [599,   5],\n",
              "       [244,   4],\n",
              "       [706,   2],\n",
              "       [209,   7]])"
            ]
          },
          "metadata": {
            "tags": []
          },
          "execution_count": 41
        }
      ]
    },
    {
      "cell_type": "code",
      "metadata": {
        "id": "DqEABivZCFDt",
        "colab_type": "code",
        "outputId": "fb79eaac-f068-477f-f2b1-ae8021cf6822",
        "colab": {
          "base_uri": "https://localhost:8080/",
          "height": 34
        }
      },
      "source": [
        "writers_train = np.array(list(map(lambda x: x[0], writers_lengths_train)))\n",
        "lengths_train = np.array(list(map(lambda x: x[1], writers_lengths_train)))\n",
        "writers_test = np.array(list(map(lambda x: x[0], writers_lengths_test)))\n",
        "lengths_test = np.array(list(map(lambda x: x[1], writers_lengths_test)))\n",
        "writers_train.shape, lengths_train.shape, writers_test.shape, lengths_test.shape"
      ],
      "execution_count": 42,
      "outputs": [
        {
          "output_type": "execute_result",
          "data": {
            "text/plain": [
              "((70853,), (70853,), (28660,), (28660,))"
            ]
          },
          "metadata": {
            "tags": []
          },
          "execution_count": 42
        }
      ]
    },
    {
      "cell_type": "code",
      "metadata": {
        "id": "RjDcx7bS-yZv",
        "colab_type": "code",
        "outputId": "b677a81c-4fcd-47be-8a0e-95c6af32dd9b",
        "colab": {
          "base_uri": "https://localhost:8080/",
          "height": 197
        }
      },
      "source": [
        "i = np.random.randint(images_train.shape[0])  # small check\n",
        "plt.imshow(images_train[i])\n",
        "plt.show()\n",
        "print(writers_train[i])\n",
        "print(lengths_train[i])"
      ],
      "execution_count": 43,
      "outputs": [
        {
          "output_type": "display_data",
          "data": {
            "image/png": "[encoded data removed]",
            "text/plain": [
              "<Figure size 432x288 with 1 Axes>"
            ]
          },
          "metadata": {
            "tags": []
          }
        },
        {
          "output_type": "stream",
          "text": [
            "29\n",
            "5\n"
          ],
          "name": "stdout"
        }
      ]
    },
    {
      "cell_type": "markdown",
      "metadata": {
        "id": "trYbUAbXngd9",
        "colab_type": "text"
      },
      "source": [
        "# Prepare data"
      ]
    },
    {
      "cell_type": "code",
      "metadata": {
        "id": "czPSBKyHnnpl",
        "colab_type": "code",
        "outputId": "1fd6a3ac-9dba-404e-b78c-ec2aab9d8497",
        "colab": {
          "base_uri": "https://localhost:8080/",
          "height": 34
        }
      },
      "source": [
        "images_train = np.expand_dims(images_train, axis=3)\n",
        "images_test = np.expand_dims(images_test, axis=3)\n",
        "images_train.shape, images_test.shape"
      ],
      "execution_count": 44,
      "outputs": [
        {
          "output_type": "execute_result",
          "data": {
            "text/plain": [
              "((70853, 40, 120, 1), (28660, 40, 120, 1))"
            ]
          },
          "metadata": {
            "tags": []
          },
          "execution_count": 44
        }
      ]
    },
    {
      "cell_type": "code",
      "metadata": {
        "id": "7f-htNjdnnhR",
        "colab_type": "code",
        "outputId": "2b38e9cb-1f5e-4668-d03d-f78cb7634bad",
        "colab": {
          "base_uri": "https://localhost:8080/",
          "height": 34
        }
      },
      "source": [
        "writers_train[:10]"
      ],
      "execution_count": 45,
      "outputs": [
        {
          "output_type": "execute_result",
          "data": {
            "text/plain": [
              "array([387, 180, 165, 242, 935, 254, 599, 244, 706, 209])"
            ]
          },
          "metadata": {
            "tags": []
          },
          "execution_count": 45
        }
      ]
    },
    {
      "cell_type": "code",
      "metadata": {
        "id": "Lf6TPNXUnnaO",
        "colab_type": "code",
        "outputId": "c69181e1-8e8d-4bab-9397-2f8d4eed4c2b",
        "colab": {
          "base_uri": "https://localhost:8080/",
          "height": 71
        }
      },
      "source": [
        "print(sorted(set(writers)))\n",
        "print(len(sorted(set(writers))))"
      ],
      "execution_count": 46,
      "outputs": [
        {
          "output_type": "stream",
          "text": [
            "[1, 2, 3, 4, 5, 6, 12, 13, 14, 15, 16, 17, 18, 20, 21, 22, 23, 24, 25, 26, 27, 28, 29, 41, 42, 47, 50, 52, 53, 57, 58, 59, 73, 74, 75, 76, 77, 78, 79, 80, 81, 83, 84, 95, 96, 97, 98, 152, 153, 155, 156, 157, 161, 162, 163, 164, 165, 166, 167, 168, 169, 170, 171, 172, 173, 175, 176, 177, 178, 179, 180, 181, 182, 183, 184, 185, 186, 187, 188, 189, 190, 191, 192, 193, 194, 195, 196, 197, 198, 199, 200, 201, 202, 203, 204, 205, 206, 207, 208, 209, 210, 211, 212, 213, 214, 215, 216, 217, 218, 219, 220, 221, 222, 223, 224, 227, 228, 229, 230, 231, 232, 233, 234, 235, 236, 237, 238, 239, 240, 241, 242, 243, 244, 245, 246, 247, 248, 249, 250, 251, 252, 254, 255, 256, 262, 263, 265, 285, 286, 287, 288, 289, 290, 291, 299, 309, 311, 312, 313, 322, 324, 327, 358, 363, 368, 369, 374, 383, 384, 386, 387, 388, 390, 391, 392, 393, 394, 395, 396, 398, 399, 400, 403, 405, 408, 410, 411, 412, 413, 418, 425, 429, 430, 431, 432, 476, 477, 479, 481, 482, 485, 507, 510, 519, 520, 522, 524, 525, 527, 528, 530, 534, 535, 538, 539, 540, 541, 547, 548, 549, 550, 556, 558, 560, 561, 562, 564, 565, 566, 567, 568, 570, 571, 573, 575, 577, 578, 580, 582, 585, 592, 598, 599, 600, 602, 603, 604, 606, 607, 609, 612, 704, 705, 706, 707, 709, 710, 717, 718, 894, 895, 901, 907, 909, 918, 920, 921, 922, 923, 925, 926, 927, 928, 932, 934, 935, 936, 937, 938, 939, 941, 944, 945, 946, 948, 950, 952, 953, 956, 957, 960, 962, 963, 964, 965, 966, 968, 972, 976, 992, 1101, 1105, 1117, 1120, 1121, 1122, 1124, 1130, 1133, 1139]\n",
            "310\n"
          ],
          "name": "stdout"
        }
      ]
    },
    {
      "cell_type": "code",
      "metadata": {
        "id": "DKNYL5W0pcmS",
        "colab_type": "code",
        "colab": {}
      },
      "source": [
        "# OneHot Encoding\n",
        "class OneHot():  \n",
        "  # classes = set of writers\n",
        "  # n = len(writers)  \n",
        "  \n",
        "  def __init__(self, classes):\n",
        "    self.classes = sorted(classes)\n",
        "    self.n = len(classes)\n",
        "    \n",
        "  def encode(self, class_name):\n",
        "    one_hot = np.zeros(shape=(self.n), dtype=np.int8)\n",
        "    class_index = self.classes.index(class_name)\n",
        "    one_hot[class_index] = 1\n",
        "    return one_hot\n",
        "  \n",
        "  def encode_all(self, list_class_names):\n",
        "    return np.array([self.encode(class_name) for class_name in list_class_names])\n",
        "  \n",
        "  def decode(self, one_hot):\n",
        "    class_index = one_hot.argmax()\n",
        "    return self.classes[class_index]\n",
        "  \n",
        "  def decode_all(self, list_one_hots):\n",
        "    return np.array([self.decode(one_hot) for one_hot in list_one_hots])"
      ],
      "execution_count": 0,
      "outputs": []
    },
    {
      "cell_type": "code",
      "metadata": {
        "id": "Qb0vFfkOpcSf",
        "colab_type": "code",
        "colab": {}
      },
      "source": [
        "OH_W = OneHot(sorted(set(writers)))"
      ],
      "execution_count": 0,
      "outputs": []
    },
    {
      "cell_type": "code",
      "metadata": {
        "id": "i1NeX3YYpu9K",
        "colab_type": "code",
        "outputId": "6120c086-14d3-4a0f-e9d3-e9597cb913bf",
        "colab": {
          "base_uri": "https://localhost:8080/",
          "height": 34
        }
      },
      "source": [
        "writers_train = OH_W.encode_all(writers_train)\n",
        "writers_test = OH_W.encode_all(writers_test)\n",
        "writers_train.shape, writers_test.shape"
      ],
      "execution_count": 49,
      "outputs": [
        {
          "output_type": "execute_result",
          "data": {
            "text/plain": [
              "((70853, 310), (28660, 310))"
            ]
          },
          "metadata": {
            "tags": []
          },
          "execution_count": 49
        }
      ]
    },
    {
      "cell_type": "code",
      "metadata": {
        "id": "0ER-bYCjqe8m",
        "colab_type": "code",
        "outputId": "499199b6-e171-4476-8bbf-790838994ec2",
        "colab": {
          "base_uri": "https://localhost:8080/",
          "height": 34
        }
      },
      "source": [
        "images_train[0].shape"
      ],
      "execution_count": 50,
      "outputs": [
        {
          "output_type": "execute_result",
          "data": {
            "text/plain": [
              "(40, 120, 1)"
            ]
          },
          "metadata": {
            "tags": []
          },
          "execution_count": 50
        }
      ]
    },
    {
      "cell_type": "code",
      "metadata": {
        "id": "ehF_DSBLhc3X",
        "colab_type": "code",
        "outputId": "00d15780-6f50-46ac-8561-1f99eadc223a",
        "colab": {
          "base_uri": "https://localhost:8080/",
          "height": 34
        }
      },
      "source": [
        "lengths_train[:10]"
      ],
      "execution_count": 51,
      "outputs": [
        {
          "output_type": "execute_result",
          "data": {
            "text/plain": [
              "array([3, 6, 6, 7, 2, 7, 5, 4, 2, 7])"
            ]
          },
          "metadata": {
            "tags": []
          },
          "execution_count": 51
        }
      ]
    },
    {
      "cell_type": "code",
      "metadata": {
        "id": "rtXx-Y-8hcr9",
        "colab_type": "code",
        "colab": {}
      },
      "source": [
        "OH_L = OneHot(sorted(set(lengths)))"
      ],
      "execution_count": 0,
      "outputs": []
    },
    {
      "cell_type": "code",
      "metadata": {
        "id": "FoYzMnciiI7Y",
        "colab_type": "code",
        "outputId": "589e8659-3e76-4256-f84b-70c7a5e2a715",
        "colab": {
          "base_uri": "https://localhost:8080/",
          "height": 34
        }
      },
      "source": [
        "lengths_train = OH_L.encode_all(lengths_train)\n",
        "lengths_test = OH_L.encode_all(lengths_test)\n",
        "lengths_train.shape, lengths_test.shape"
      ],
      "execution_count": 53,
      "outputs": [
        {
          "output_type": "execute_result",
          "data": {
            "text/plain": [
              "((70853, 13), (28660, 13))"
            ]
          },
          "metadata": {
            "tags": []
          },
          "execution_count": 53
        }
      ]
    },
    {
      "cell_type": "code",
      "metadata": {
        "id": "ueqFvftEiIxv",
        "colab_type": "code",
        "outputId": "ff497497-c0a5-45cb-9e65-b7e1388bbcae",
        "colab": {
          "base_uri": "https://localhost:8080/",
          "height": 34
        }
      },
      "source": [
        "set(lengths)"
      ],
      "execution_count": 54,
      "outputs": [
        {
          "output_type": "execute_result",
          "data": {
            "text/plain": [
              "{1, 2, 3, 4, 5, 6, 7, 8, 9, 10, 11, 12, 13}"
            ]
          },
          "metadata": {
            "tags": []
          },
          "execution_count": 54
        }
      ]
    },
    {
      "cell_type": "markdown",
      "metadata": {
        "id": "I1stzsIBdV2i",
        "colab_type": "text"
      },
      "source": [
        "# Model1"
      ]
    },
    {
      "cell_type": "code",
      "metadata": {
        "id": "idKqf1q2dSI2",
        "colab_type": "code",
        "colab": {}
      },
      "source": [
        "from keras.models import Model\n",
        "from keras.layers import Conv2D, MaxPooling2D, Dense, Dropout, Input, Flatten, LeakyReLU, Concatenate, Add, BatchNormalization\n",
        "from keras.losses import categorical_crossentropy\n",
        "from keras.optimizers import Adam\n",
        "from keras.utils.vis_utils import plot_model\n",
        "from keras.callbacks import ModelCheckpoint, EarlyStopping, ReduceLROnPlateau, CSVLogger, LambdaCallback\n",
        "\n",
        "import keras.backend as K"
      ],
      "execution_count": 0,
      "outputs": []
    },
    {
      "cell_type": "code",
      "metadata": {
        "id": "YRjcgGIHxO66",
        "colab_type": "code",
        "colab": {}
      },
      "source": [
        "K.clear_session()"
      ],
      "execution_count": 0,
      "outputs": []
    },
    {
      "cell_type": "code",
      "metadata": {
        "id": "nB-KSw0OvYBm",
        "colab_type": "code",
        "colab": {}
      },
      "source": [
        "x_input = Input(shape=(40, 120, 1))\n",
        "F1 = Conv2D(filters=64, kernel_size=(3, 3), strides=1, padding='same', kernel_initializer='glorot_uniform')(x_input)\n",
        "F1 = LeakyReLU(alpha=0.1)(F1)\n",
        "F1 = Conv2D(filters=64, kernel_size=(3, 3), strides=1, padding='same', kernel_initializer='glorot_uniform')(F1)\n",
        "F1 = LeakyReLU(alpha=0.1)(F1)\n",
        "F1 = MaxPooling2D(pool_size=(2, 2), strides=2)(F1)\n",
        "\n",
        "F2 = Conv2D(filters=128, kernel_size=(3, 3), strides=1, padding='same', kernel_initializer='glorot_uniform')(F1)\n",
        "F2 = LeakyReLU(alpha=0.1)(F2)\n",
        "F2 = Conv2D(filters=128, kernel_size=(3, 3), strides=1, padding='same', kernel_initializer='glorot_uniform')(F2)\n",
        "F2 = LeakyReLU(alpha=0.1)(F2)\n",
        "F2 = MaxPooling2D(pool_size=(2, 2), strides=2)(F2)\n",
        "\n",
        "F3 = Conv2D(filters=256, kernel_size=(3, 3), strides=1, padding='same', kernel_initializer='glorot_uniform')(F2)\n",
        "F3 = LeakyReLU(alpha=0.1)(F3)\n",
        "F3 = Conv2D(filters=256, kernel_size=(3, 3), strides=1, padding='same', kernel_initializer='glorot_uniform')(F3)\n",
        "F3 = LeakyReLU(alpha=0.1)(F3)\n",
        "F3 = MaxPooling2D(pool_size=(2, 2), strides=2)(F3)\n",
        "\n",
        "F4 = Conv2D(filters=512, kernel_size=(3, 3), strides=1, padding='same', kernel_initializer='glorot_uniform')(F3)\n",
        "F4 = LeakyReLU(alpha=0.1)(F4)\n",
        "F4 = Conv2D(filters=512, kernel_size=(3, 3), strides=1, padding='same', kernel_initializer='glorot_uniform')(F4)\n",
        "F4 = LeakyReLU(alpha=0.1)(F4)\n",
        "F4 = MaxPooling2D(pool_size=(2, 2), strides=2)(F4)\n",
        "\n",
        "T = Flatten()(F4)\n",
        "T = Dense(units=4096, kernel_initializer='glorot_uniform')(T)\n",
        "T = LeakyReLU(alpha=0.1)(T)\n",
        "T = Dropout(rate=0.5)(T)\n",
        "T = Dense(units=1096, kernel_initializer='glorot_uniform')(T)\n",
        "T = LeakyReLU(alpha=0.1, name='next_to_last')(T)\n",
        "T = Dropout(rate=0.5)(T)\n",
        "T = Dense(units=MAX_WRITER, activation='softmax', kernel_initializer='glorot_uniform', name='last')(T)"
      ],
      "execution_count": 0,
      "outputs": []
    },
    {
      "cell_type": "code",
      "metadata": {
        "id": "GayPJn9Rv8Ps",
        "colab_type": "code",
        "colab": {}
      },
      "source": [
        "model1 = Model(inputs=x_input, outputs=T, name='Network')"
      ],
      "execution_count": 0,
      "outputs": []
    },
    {
      "cell_type": "code",
      "metadata": {
        "id": "_hU1TvQVw3Vy",
        "colab_type": "code",
        "outputId": "f7af0287-ad0b-461c-fbaf-238833f92503",
        "colab": {
          "base_uri": "https://localhost:8080/",
          "height": 1000
        }
      },
      "source": [
        "model1.summary()"
      ],
      "execution_count": 0,
      "outputs": [
        {
          "output_type": "stream",
          "text": [
            "_________________________________________________________________\n",
            "Layer (type)                 Output Shape              Param #   \n",
            "=================================================================\n",
            "input_1 (InputLayer)         (None, 40, 120, 1)        0         \n",
            "_________________________________________________________________\n",
            "conv2d_1 (Conv2D)            (None, 40, 120, 64)       640       \n",
            "_________________________________________________________________\n",
            "leaky_re_lu_1 (LeakyReLU)    (None, 40, 120, 64)       0         \n",
            "_________________________________________________________________\n",
            "conv2d_2 (Conv2D)            (None, 40, 120, 64)       36928     \n",
            "_________________________________________________________________\n",
            "leaky_re_lu_2 (LeakyReLU)    (None, 40, 120, 64)       0         \n",
            "_________________________________________________________________\n",
            "max_pooling2d_1 (MaxPooling2 (None, 20, 60, 64)        0         \n",
            "_________________________________________________________________\n",
            "conv2d_3 (Conv2D)            (None, 20, 60, 128)       73856     \n",
            "_________________________________________________________________\n",
            "leaky_re_lu_3 (LeakyReLU)    (None, 20, 60, 128)       0         \n",
            "_________________________________________________________________\n",
            "conv2d_4 (Conv2D)            (None, 20, 60, 128)       147584    \n",
            "_________________________________________________________________\n",
            "leaky_re_lu_4 (LeakyReLU)    (None, 20, 60, 128)       0         \n",
            "_________________________________________________________________\n",
            "max_pooling2d_2 (MaxPooling2 (None, 10, 30, 128)       0         \n",
            "_________________________________________________________________\n",
            "conv2d_5 (Conv2D)            (None, 10, 30, 256)       295168    \n",
            "_________________________________________________________________\n",
            "leaky_re_lu_5 (LeakyReLU)    (None, 10, 30, 256)       0         \n",
            "_________________________________________________________________\n",
            "conv2d_6 (Conv2D)            (None, 10, 30, 256)       590080    \n",
            "_________________________________________________________________\n",
            "leaky_re_lu_6 (LeakyReLU)    (None, 10, 30, 256)       0         \n",
            "_________________________________________________________________\n",
            "max_pooling2d_3 (MaxPooling2 (None, 5, 15, 256)        0         \n",
            "_________________________________________________________________\n",
            "conv2d_7 (Conv2D)            (None, 5, 15, 512)        1180160   \n",
            "_________________________________________________________________\n",
            "leaky_re_lu_7 (LeakyReLU)    (None, 5, 15, 512)        0         \n",
            "_________________________________________________________________\n",
            "conv2d_8 (Conv2D)            (None, 5, 15, 512)        2359808   \n",
            "_________________________________________________________________\n",
            "leaky_re_lu_8 (LeakyReLU)    (None, 5, 15, 512)        0         \n",
            "_________________________________________________________________\n",
            "max_pooling2d_4 (MaxPooling2 (None, 2, 7, 512)         0         \n",
            "_________________________________________________________________\n",
            "flatten_1 (Flatten)          (None, 7168)              0         \n",
            "_________________________________________________________________\n",
            "dense_1 (Dense)              (None, 4096)              29364224  \n",
            "_________________________________________________________________\n",
            "leaky_re_lu_9 (LeakyReLU)    (None, 4096)              0         \n",
            "_________________________________________________________________\n",
            "dropout_1 (Dropout)          (None, 4096)              0         \n",
            "_________________________________________________________________\n",
            "dense_2 (Dense)              (None, 1096)              4490312   \n",
            "_________________________________________________________________\n",
            "next_to_last (LeakyReLU)     (None, 1096)              0         \n",
            "_________________________________________________________________\n",
            "dropout_2 (Dropout)          (None, 1096)              0         \n",
            "_________________________________________________________________\n",
            "last (Dense)                 (None, 310)               340070    \n",
            "=================================================================\n",
            "Total params: 38,878,830\n",
            "Trainable params: 38,878,830\n",
            "Non-trainable params: 0\n",
            "_________________________________________________________________\n"
          ],
          "name": "stdout"
        }
      ]
    },
    {
      "cell_type": "code",
      "metadata": {
        "id": "J1kBS2Oz1rMp",
        "colab_type": "code",
        "colab": {}
      },
      "source": [
        "model1.compile(loss=categorical_crossentropy, optimizer=Adam(lr=0.0001), metrics=['acc'])"
      ],
      "execution_count": 0,
      "outputs": []
    },
    {
      "cell_type": "code",
      "metadata": {
        "id": "wGpUdd3K7jln",
        "colab_type": "code",
        "colab": {}
      },
      "source": [
        "plot_model(model1, to_file='Model1_plot.png', show_shapes=True, show_layer_names=True)"
      ],
      "execution_count": 0,
      "outputs": []
    },
    {
      "cell_type": "markdown",
      "metadata": {
        "id": "K_cWsAj92SYr",
        "colab_type": "text"
      },
      "source": [
        "# Train Model1"
      ]
    },
    {
      "cell_type": "code",
      "metadata": {
        "id": "mBLGjBR2Dj1_",
        "colab_type": "code",
        "colab": {}
      },
      "source": [
        "reduce = ReduceLROnPlateau(monitor='val_loss', factor=0.5, patience=1, verbose=1, mode='min', #add min_delta\n",
        "                           cooldown=2, min_le=1e-8)\n",
        "\n",
        "estop = EarlyStopping(monitor='val_loss', min_delta=0, patience=2, verbose=1, mode='min')\n",
        "\n",
        "excel = CSVLogger(filename='./Model1_stats.csv', separator=',', append=False)\n",
        "\n",
        "checkp = ModelCheckpoint('./Model1_weights.h5', monitor='val_loss', verbose=1, save_best_only=True, save_weights_only=True, mode='auto', period=1)"
      ],
      "execution_count": 0,
      "outputs": []
    },
    {
      "cell_type": "code",
      "metadata": {
        "id": "EQ-NrUZs2RNO",
        "colab_type": "code",
        "outputId": "8f746676-98f3-454d-dd05-132dfe55aff9",
        "colab": {
          "base_uri": "https://localhost:8080/",
          "height": 1000
        }
      },
      "source": [
        "history = model1.fit(images_train, writers_train, verbose=1, epochs=40, batch_size=100, validation_split=0.1, shuffle=True, callbacks=[reduce, estop, excel, checkp])"
      ],
      "execution_count": 0,
      "outputs": [
        {
          "output_type": "stream",
          "text": [
            "Train on 63767 samples, validate on 7086 samples\n",
            "Epoch 1/40\n",
            "63767/63767 [==============================] - 212s 3ms/step - loss: 5.4953 - acc: 0.0075 - val_loss: 4.9217 - val_acc: 0.0182\n",
            "\n",
            "Epoch 00001: val_loss improved from inf to 4.92167, saving model to ./Model1_weights.h5\n",
            "Epoch 2/40\n",
            "63767/63767 [==============================] - 210s 3ms/step - loss: 4.6728 - acc: 0.0398 - val_loss: 4.0414 - val_acc: 0.0955\n",
            "\n",
            "Epoch 00002: val_loss improved from 4.92167 to 4.04139, saving model to ./Model1_weights.h5\n",
            "Epoch 3/40\n",
            "63767/63767 [==============================] - 210s 3ms/step - loss: 3.7072 - acc: 0.1349 - val_loss: 3.0979 - val_acc: 0.2530\n",
            "\n",
            "Epoch 00003: val_loss improved from 4.04139 to 3.09786, saving model to ./Model1_weights.h5\n",
            "Epoch 4/40\n",
            "63767/63767 [==============================] - 210s 3ms/step - loss: 3.0849 - acc: 0.2313 - val_loss: 2.6391 - val_acc: 0.3345\n",
            "\n",
            "Epoch 00004: val_loss improved from 3.09786 to 2.63911, saving model to ./Model1_weights.h5\n",
            "Epoch 5/40\n",
            "63767/63767 [==============================] - 210s 3ms/step - loss: 2.6399 - acc: 0.3202 - val_loss: 2.2685 - val_acc: 0.4136\n",
            "\n",
            "Epoch 00005: val_loss improved from 2.63911 to 2.26846, saving model to ./Model1_weights.h5\n",
            "Epoch 6/40\n",
            "63767/63767 [==============================] - 210s 3ms/step - loss: 2.3017 - acc: 0.3923 - val_loss: 2.1799 - val_acc: 0.4345\n",
            "\n",
            "Epoch 00006: val_loss improved from 2.26846 to 2.17989, saving model to ./Model1_weights.h5\n",
            "Epoch 7/40\n",
            "63767/63767 [==============================] - 210s 3ms/step - loss: 2.0081 - acc: 0.4578 - val_loss: 1.7751 - val_acc: 0.5312\n",
            "\n",
            "Epoch 00007: val_loss improved from 2.17989 to 1.77507, saving model to ./Model1_weights.h5\n",
            "Epoch 8/40\n",
            "63767/63767 [==============================] - 210s 3ms/step - loss: 1.7662 - acc: 0.5163 - val_loss: 1.6898 - val_acc: 0.5515\n",
            "\n",
            "Epoch 00008: val_loss improved from 1.77507 to 1.68979, saving model to ./Model1_weights.h5\n",
            "Epoch 9/40\n",
            "63767/63767 [==============================] - 210s 3ms/step - loss: 1.5420 - acc: 0.5692 - val_loss: 1.5052 - val_acc: 0.5971\n",
            "\n",
            "Epoch 00009: val_loss improved from 1.68979 to 1.50521, saving model to ./Model1_weights.h5\n",
            "Epoch 10/40\n",
            "63767/63767 [==============================] - 210s 3ms/step - loss: 1.3468 - acc: 0.6197 - val_loss: 1.4264 - val_acc: 0.6139\n",
            "\n",
            "Epoch 00010: val_loss improved from 1.50521 to 1.42642, saving model to ./Model1_weights.h5\n",
            "Epoch 11/40\n",
            "63767/63767 [==============================] - 210s 3ms/step - loss: 1.1688 - acc: 0.6640 - val_loss: 1.3807 - val_acc: 0.6231\n",
            "\n",
            "Epoch 00011: val_loss improved from 1.42642 to 1.38073, saving model to ./Model1_weights.h5\n",
            "Epoch 12/40\n",
            "63767/63767 [==============================] - 210s 3ms/step - loss: 1.0204 - acc: 0.7013 - val_loss: 1.3194 - val_acc: 0.6363\n",
            "\n",
            "Epoch 00012: val_loss improved from 1.38073 to 1.31941, saving model to ./Model1_weights.h5\n",
            "Epoch 13/40\n",
            "63767/63767 [==============================] - 210s 3ms/step - loss: 0.8868 - acc: 0.7363 - val_loss: 1.2849 - val_acc: 0.6538\n",
            "\n",
            "Epoch 00013: val_loss improved from 1.31941 to 1.28486, saving model to ./Model1_weights.h5\n",
            "Epoch 14/40\n",
            "63767/63767 [==============================] - 210s 3ms/step - loss: 0.7636 - acc: 0.7705 - val_loss: 1.3046 - val_acc: 0.6506\n",
            "\n",
            "Epoch 00014: ReduceLROnPlateau reducing learning rate to 4.999999873689376e-05.\n",
            "\n",
            "Epoch 00014: val_loss did not improve from 1.28486\n",
            "Epoch 15/40\n",
            "63767/63767 [==============================] - 210s 3ms/step - loss: 0.5469 - acc: 0.8320 - val_loss: 1.2268 - val_acc: 0.6819\n",
            "\n",
            "Epoch 00015: val_loss improved from 1.28486 to 1.22685, saving model to ./Model1_weights.h5\n",
            "Epoch 16/40\n",
            "63767/63767 [==============================] - 210s 3ms/step - loss: 0.4693 - acc: 0.8538 - val_loss: 1.2185 - val_acc: 0.6843\n",
            "\n",
            "Epoch 00016: val_loss improved from 1.22685 to 1.21855, saving model to ./Model1_weights.h5\n",
            "Epoch 17/40\n",
            "63767/63767 [==============================] - 210s 3ms/step - loss: 0.4186 - acc: 0.8673 - val_loss: 1.2069 - val_acc: 0.6921\n",
            "\n",
            "Epoch 00017: val_loss improved from 1.21855 to 1.20689, saving model to ./Model1_weights.h5\n",
            "Epoch 18/40\n",
            "63767/63767 [==============================] - 210s 3ms/step - loss: 0.3720 - acc: 0.8818 - val_loss: 1.2898 - val_acc: 0.6850\n",
            "\n",
            "Epoch 00018: ReduceLROnPlateau reducing learning rate to 2.499999936844688e-05.\n",
            "\n",
            "Epoch 00018: val_loss did not improve from 1.20689\n",
            "Epoch 19/40\n",
            "63767/63767 [==============================] - 210s 3ms/step - loss: 0.2861 - acc: 0.9089 - val_loss: 1.2290 - val_acc: 0.7001\n",
            "\n",
            "Epoch 00019: val_loss did not improve from 1.20689\n",
            "Epoch 00019: early stopping\n"
          ],
          "name": "stdout"
        }
      ]
    },
    {
      "cell_type": "markdown",
      "metadata": {
        "id": "P_ZK0Xs4Yxn8",
        "colab_type": "text"
      },
      "source": [
        "# Evaluate Model1"
      ]
    },
    {
      "cell_type": "code",
      "metadata": {
        "id": "0sXjFgGz8wcb",
        "colab_type": "code",
        "colab": {}
      },
      "source": [
        "model1.load_weights('./Model1_weights.h5')"
      ],
      "execution_count": 0,
      "outputs": []
    },
    {
      "cell_type": "code",
      "metadata": {
        "id": "OHbZHTEqq2EB",
        "colab_type": "code",
        "outputId": "95985448-699d-4049-8fe2-3086006efbba",
        "colab": {
          "base_uri": "https://localhost:8080/",
          "height": 51
        }
      },
      "source": [
        "model1.evaluate(images_test, writers_test)"
      ],
      "execution_count": 0,
      "outputs": [
        {
          "output_type": "stream",
          "text": [
            "28660/28660 [==============================] - 35s 1ms/step\n"
          ],
          "name": "stdout"
        },
        {
          "output_type": "execute_result",
          "data": {
            "text/plain": [
              "[1.2218265160762256, 0.6862526168710106]"
            ]
          },
          "metadata": {
            "tags": []
          },
          "execution_count": 194
        }
      ]
    },
    {
      "cell_type": "code",
      "metadata": {
        "id": "RLfYoOJQlYcY",
        "colab_type": "code",
        "outputId": "f4c7ba82-9e05-4247-e26c-6992b103014b",
        "colab": {
          "base_uri": "https://localhost:8080/",
          "height": 295
        }
      },
      "source": [
        "epoch = history.epoch\n",
        "acc = history.history['acc']\n",
        "val_acc = history.history['val_acc']\n",
        "plt.title('Accuracy plot')\n",
        "plt.plot(epoch, acc, color='blue', label='training')\n",
        "plt.plot(epoch, val_acc, color='orange', label='validation')\n",
        "plt.xlabel('epoch')\n",
        "plt.ylabel('accuracy')\n",
        "plt.legend(loc='best')\n",
        "plt.show()"
      ],
      "execution_count": 0,
      "outputs": [
        {
          "output_type": "display_data",
          "data": {
            "image/png": "[encoded data removed]",
            "text/plain": [
              "<Figure size 432x288 with 1 Axes>"
            ]
          },
          "metadata": {
            "tags": []
          }
        }
      ]
    },
    {
      "cell_type": "code",
      "metadata": {
        "id": "hQu-cgcelYCG",
        "colab_type": "code",
        "outputId": "041b53ef-df37-4b42-8400-cdeb29cc5271",
        "colab": {
          "base_uri": "https://localhost:8080/",
          "height": 295
        }
      },
      "source": [
        "epoch = history.epoch\n",
        "loss = history.history['loss']\n",
        "val_loss = history.history['val_loss']\n",
        "plt.title('Loss plot')\n",
        "plt.plot(epoch, loss, color='blue', label='training')\n",
        "plt.plot(epoch, val_loss, color='orange', label='validation')\n",
        "plt.xlabel('epoch')\n",
        "plt.ylabel('loss')\n",
        "plt.legend(loc='best')\n",
        "plt.show()"
      ],
      "execution_count": 0,
      "outputs": [
        {
          "output_type": "display_data",
          "data": {
            "image/png": "[encoded data removed]",
            "text/plain": [
              "<Figure size 432x288 with 1 Axes>"
            ]
          },
          "metadata": {
            "tags": []
          }
        }
      ]
    },
    {
      "cell_type": "code",
      "metadata": {
        "id": "79NGJOt4gqEQ",
        "colab_type": "code",
        "colab": {}
      },
      "source": [
        "def test1(images, writers, N=1):\n",
        "  unique, counts = np.unique(OH_W.decode_all(writers), return_counts=True)  # Ok, svi imaju vise od 20\n",
        "  _writers = dict(zip(unique, counts))\n",
        "  writers_decoded = OH_W.decode_all(writers)\n",
        "  T = 0\n",
        "  F = 0\n",
        "  for _writer in _writers.keys():\n",
        "    _images = images[writers_decoded == _writer]\n",
        "    indexes = [np.random.randint(len(_images)) for _ in range(N)]\n",
        "    prediction = OH_W.decode_all(model1.predict(_images[indexes]))\n",
        "    \n",
        "    count = Counter(prediction)\n",
        "    if _writer==count.most_common(1)[0][0]:\n",
        "      T += 1\n",
        "    else:\n",
        "      F += 1\n",
        "  return T/(T+F)"
      ],
      "execution_count": 0,
      "outputs": []
    },
    {
      "cell_type": "code",
      "metadata": {
        "id": "V0kpZJ3Uhnbr",
        "colab_type": "code",
        "outputId": "5f59131f-4657-41dd-b1e2-a274aad221d1",
        "colab": {
          "base_uri": "https://localhost:8080/",
          "height": 102
        }
      },
      "source": [
        "%%time\n",
        "M = 20\n",
        "for N in [1, 5, 10]:\n",
        "  print('N: ', N, end='')\n",
        "  acc = 0\n",
        "  for _ in range(M):\n",
        "    acc += test1(images_test, writers_test, N=N)\n",
        "  acc /= M\n",
        "  print(' Accuracy: ', acc)"
      ],
      "execution_count": 0,
      "outputs": [
        {
          "output_type": "stream",
          "text": [
            "N:  1 Accuracy:  0.6770967741935483\n",
            "N:  5 Accuracy:  0.9066129032258063\n",
            "N:  10 Accuracy:  0.976935483870968\n",
            "CPU times: user 1min 38s, sys: 26.9 s, total: 2min 5s\n",
            "Wall time: 3min 56s\n"
          ],
          "name": "stdout"
        }
      ]
    },
    {
      "cell_type": "code",
      "metadata": {
        "id": "LTlxahiGgdpF",
        "colab_type": "code",
        "colab": {}
      },
      "source": [
        "finder = Model(inputs=model1.input, outputs=model1.get_layer('last').output)"
      ],
      "execution_count": 0,
      "outputs": []
    },
    {
      "cell_type": "code",
      "metadata": {
        "id": "FCn13nfUkkeE",
        "colab_type": "code",
        "outputId": "bf53857c-0937-422a-dbe4-8a65bd98f9bf",
        "colab": {
          "base_uri": "https://localhost:8080/",
          "height": 1000
        }
      },
      "source": [
        "finder.summary()"
      ],
      "execution_count": 0,
      "outputs": [
        {
          "output_type": "stream",
          "text": [
            "_________________________________________________________________\n",
            "Layer (type)                 Output Shape              Param #   \n",
            "=================================================================\n",
            "input_1 (InputLayer)         (None, 40, 120, 1)        0         \n",
            "_________________________________________________________________\n",
            "conv2d_1 (Conv2D)            (None, 40, 120, 64)       640       \n",
            "_________________________________________________________________\n",
            "leaky_re_lu_1 (LeakyReLU)    (None, 40, 120, 64)       0         \n",
            "_________________________________________________________________\n",
            "conv2d_2 (Conv2D)            (None, 40, 120, 64)       36928     \n",
            "_________________________________________________________________\n",
            "leaky_re_lu_2 (LeakyReLU)    (None, 40, 120, 64)       0         \n",
            "_________________________________________________________________\n",
            "max_pooling2d_1 (MaxPooling2 (None, 20, 60, 64)        0         \n",
            "_________________________________________________________________\n",
            "conv2d_3 (Conv2D)            (None, 20, 60, 128)       73856     \n",
            "_________________________________________________________________\n",
            "leaky_re_lu_3 (LeakyReLU)    (None, 20, 60, 128)       0         \n",
            "_________________________________________________________________\n",
            "conv2d_4 (Conv2D)            (None, 20, 60, 128)       147584    \n",
            "_________________________________________________________________\n",
            "leaky_re_lu_4 (LeakyReLU)    (None, 20, 60, 128)       0         \n",
            "_________________________________________________________________\n",
            "max_pooling2d_2 (MaxPooling2 (None, 10, 30, 128)       0         \n",
            "_________________________________________________________________\n",
            "conv2d_5 (Conv2D)            (None, 10, 30, 256)       295168    \n",
            "_________________________________________________________________\n",
            "leaky_re_lu_5 (LeakyReLU)    (None, 10, 30, 256)       0         \n",
            "_________________________________________________________________\n",
            "conv2d_6 (Conv2D)            (None, 10, 30, 256)       590080    \n",
            "_________________________________________________________________\n",
            "leaky_re_lu_6 (LeakyReLU)    (None, 10, 30, 256)       0         \n",
            "_________________________________________________________________\n",
            "max_pooling2d_3 (MaxPooling2 (None, 5, 15, 256)        0         \n",
            "_________________________________________________________________\n",
            "conv2d_7 (Conv2D)            (None, 5, 15, 512)        1180160   \n",
            "_________________________________________________________________\n",
            "leaky_re_lu_7 (LeakyReLU)    (None, 5, 15, 512)        0         \n",
            "_________________________________________________________________\n",
            "conv2d_8 (Conv2D)            (None, 5, 15, 512)        2359808   \n",
            "_________________________________________________________________\n",
            "leaky_re_lu_8 (LeakyReLU)    (None, 5, 15, 512)        0         \n",
            "_________________________________________________________________\n",
            "max_pooling2d_4 (MaxPooling2 (None, 2, 7, 512)         0         \n",
            "_________________________________________________________________\n",
            "flatten_1 (Flatten)          (None, 7168)              0         \n",
            "_________________________________________________________________\n",
            "dense_1 (Dense)              (None, 4096)              29364224  \n",
            "_________________________________________________________________\n",
            "leaky_re_lu_9 (LeakyReLU)    (None, 4096)              0         \n",
            "_________________________________________________________________\n",
            "dropout_1 (Dropout)          (None, 4096)              0         \n",
            "_________________________________________________________________\n",
            "dense_2 (Dense)              (None, 1096)              4490312   \n",
            "_________________________________________________________________\n",
            "next_to_last (LeakyReLU)     (None, 1096)              0         \n",
            "_________________________________________________________________\n",
            "dropout_2 (Dropout)          (None, 1096)              0         \n",
            "_________________________________________________________________\n",
            "last (Dense)                 (None, 310)               340070    \n",
            "=================================================================\n",
            "Total params: 38,878,830\n",
            "Trainable params: 38,878,830\n",
            "Non-trainable params: 0\n",
            "_________________________________________________________________\n"
          ],
          "name": "stdout"
        }
      ]
    },
    {
      "cell_type": "code",
      "metadata": {
        "id": "lCyzKoadk0Cu",
        "colab_type": "code",
        "colab": {}
      },
      "source": [
        "def test2(images, writers, N=1):\n",
        "  unique, counts = np.unique(OH_W.decode_all(writers), return_counts=True)  \n",
        "  _writers = dict(zip(unique, counts))\n",
        "  writers_decoded = OH_W.decode_all(writers)\n",
        "  T = 0\n",
        "  F = 0\n",
        "  for _writer in _writers.keys():\n",
        "    _images = images[writers_decoded == _writer]\n",
        "    indexes = [np.random.randint(len(_images)) for _ in range(N)]\n",
        "    prediction = np.zeros((310,))\n",
        "    for i in indexes:\n",
        "      prediction += finder.predict(np.array([_images[i]]))[0]\n",
        "    prediction /= N\n",
        "\n",
        "    _prediction = np.zeros((310,))\n",
        "    _prediction[np.argmax(prediction)] = 1\n",
        "    if _writer==OH_W.decode(_prediction):\n",
        "      T += 1\n",
        "    else:\n",
        "      F += 1\n",
        "  return T/(T+F)"
      ],
      "execution_count": 0,
      "outputs": []
    },
    {
      "cell_type": "code",
      "metadata": {
        "id": "rpFqrBJplXQu",
        "colab_type": "code",
        "outputId": "ccb911ee-919e-4b9f-c598-71d0739d13b0",
        "colab": {
          "base_uri": "https://localhost:8080/",
          "height": 102
        }
      },
      "source": [
        "%%time\n",
        "M = 20\n",
        "for N in [1, 5, 10]:\n",
        "  print('N: ', N, end='')\n",
        "  acc = 0\n",
        "  for _ in range(M):\n",
        "    acc += test2(images_test, writers_test, N=N)\n",
        "  acc /= M\n",
        "  print(' Accuracy: ', acc)"
      ],
      "execution_count": 0,
      "outputs": [
        {
          "output_type": "stream",
          "text": [
            "N:  1 Accuracy:  0.6790322580645162\n",
            "N:  5 Accuracy:  0.9503225806451615\n",
            "N:  10 Accuracy:  0.988709677419355\n",
            "CPU times: user 5min 28s, sys: 1min 23s, total: 6min 51s\n",
            "Wall time: 9min 35s\n"
          ],
          "name": "stdout"
        }
      ]
    },
    {
      "cell_type": "code",
      "metadata": {
        "id": "WYpYsgeZoQ9i",
        "colab_type": "code",
        "colab": {}
      },
      "source": [
        "semi_finder = Model(inputs=model1.input, outputs=model1.get_layer('next_to_last').output)"
      ],
      "execution_count": 0,
      "outputs": []
    },
    {
      "cell_type": "code",
      "metadata": {
        "id": "imilJyKtokF8",
        "colab_type": "code",
        "outputId": "f21011a5-19f8-4fc6-f7fd-04aacab80a86",
        "colab": {
          "base_uri": "https://localhost:8080/",
          "height": 1000
        }
      },
      "source": [
        "semi_finder.summary()"
      ],
      "execution_count": 0,
      "outputs": [
        {
          "output_type": "stream",
          "text": [
            "_________________________________________________________________\n",
            "Layer (type)                 Output Shape              Param #   \n",
            "=================================================================\n",
            "input_1 (InputLayer)         (None, 40, 120, 1)        0         \n",
            "_________________________________________________________________\n",
            "conv2d_1 (Conv2D)            (None, 40, 120, 64)       640       \n",
            "_________________________________________________________________\n",
            "leaky_re_lu_1 (LeakyReLU)    (None, 40, 120, 64)       0         \n",
            "_________________________________________________________________\n",
            "conv2d_2 (Conv2D)            (None, 40, 120, 64)       36928     \n",
            "_________________________________________________________________\n",
            "leaky_re_lu_2 (LeakyReLU)    (None, 40, 120, 64)       0         \n",
            "_________________________________________________________________\n",
            "max_pooling2d_1 (MaxPooling2 (None, 20, 60, 64)        0         \n",
            "_________________________________________________________________\n",
            "conv2d_3 (Conv2D)            (None, 20, 60, 128)       73856     \n",
            "_________________________________________________________________\n",
            "leaky_re_lu_3 (LeakyReLU)    (None, 20, 60, 128)       0         \n",
            "_________________________________________________________________\n",
            "conv2d_4 (Conv2D)            (None, 20, 60, 128)       147584    \n",
            "_________________________________________________________________\n",
            "leaky_re_lu_4 (LeakyReLU)    (None, 20, 60, 128)       0         \n",
            "_________________________________________________________________\n",
            "max_pooling2d_2 (MaxPooling2 (None, 10, 30, 128)       0         \n",
            "_________________________________________________________________\n",
            "conv2d_5 (Conv2D)            (None, 10, 30, 256)       295168    \n",
            "_________________________________________________________________\n",
            "leaky_re_lu_5 (LeakyReLU)    (None, 10, 30, 256)       0         \n",
            "_________________________________________________________________\n",
            "conv2d_6 (Conv2D)            (None, 10, 30, 256)       590080    \n",
            "_________________________________________________________________\n",
            "leaky_re_lu_6 (LeakyReLU)    (None, 10, 30, 256)       0         \n",
            "_________________________________________________________________\n",
            "max_pooling2d_3 (MaxPooling2 (None, 5, 15, 256)        0         \n",
            "_________________________________________________________________\n",
            "conv2d_7 (Conv2D)            (None, 5, 15, 512)        1180160   \n",
            "_________________________________________________________________\n",
            "leaky_re_lu_7 (LeakyReLU)    (None, 5, 15, 512)        0         \n",
            "_________________________________________________________________\n",
            "conv2d_8 (Conv2D)            (None, 5, 15, 512)        2359808   \n",
            "_________________________________________________________________\n",
            "leaky_re_lu_8 (LeakyReLU)    (None, 5, 15, 512)        0         \n",
            "_________________________________________________________________\n",
            "max_pooling2d_4 (MaxPooling2 (None, 2, 7, 512)         0         \n",
            "_________________________________________________________________\n",
            "flatten_1 (Flatten)          (None, 7168)              0         \n",
            "_________________________________________________________________\n",
            "dense_1 (Dense)              (None, 4096)              29364224  \n",
            "_________________________________________________________________\n",
            "leaky_re_lu_9 (LeakyReLU)    (None, 4096)              0         \n",
            "_________________________________________________________________\n",
            "dropout_1 (Dropout)          (None, 4096)              0         \n",
            "_________________________________________________________________\n",
            "dense_2 (Dense)              (None, 1096)              4490312   \n",
            "_________________________________________________________________\n",
            "next_to_last (LeakyReLU)     (None, 1096)              0         \n",
            "=================================================================\n",
            "Total params: 38,538,760\n",
            "Trainable params: 38,538,760\n",
            "Non-trainable params: 0\n",
            "_________________________________________________________________\n"
          ],
          "name": "stdout"
        }
      ]
    },
    {
      "cell_type": "code",
      "metadata": {
        "id": "KXCGVUM3ooHD",
        "colab_type": "code",
        "outputId": "211d0cf9-d0e5-43a4-ad34-db00bef1056d",
        "colab": {
          "base_uri": "https://localhost:8080/",
          "height": 238
        }
      },
      "source": [
        "x_input = Input(shape=(1096,))\n",
        "x = LeakyReLU(alpha=0.1, name='next_to_last')(x_input)\n",
        "y = Dense(units=MAX_WRITER, activation='sigmoid', kernel_initializer='glorot_uniform', name='last')(x)\n",
        "finalizer = Model(inputs=x_input, outputs=y)\n",
        "finalizer.summary()"
      ],
      "execution_count": 0,
      "outputs": [
        {
          "output_type": "stream",
          "text": [
            "_________________________________________________________________\n",
            "Layer (type)                 Output Shape              Param #   \n",
            "=================================================================\n",
            "input_2 (InputLayer)         (None, 1096)              0         \n",
            "_________________________________________________________________\n",
            "next_to_last (LeakyReLU)     (None, 1096)              0         \n",
            "_________________________________________________________________\n",
            "last (Dense)                 (None, 310)               340070    \n",
            "=================================================================\n",
            "Total params: 340,070\n",
            "Trainable params: 340,070\n",
            "Non-trainable params: 0\n",
            "_________________________________________________________________\n"
          ],
          "name": "stdout"
        }
      ]
    },
    {
      "cell_type": "code",
      "metadata": {
        "id": "anY2kyZAovf9",
        "colab_type": "code",
        "colab": {}
      },
      "source": [
        "finalizer.set_weights(model1.get_weights()[-2:])"
      ],
      "execution_count": 0,
      "outputs": []
    },
    {
      "cell_type": "code",
      "metadata": {
        "id": "PrzQuNvgozVO",
        "colab_type": "code",
        "colab": {}
      },
      "source": [
        "def test3(images, writers, N=1):\n",
        "  unique, counts = np.unique(OH_W.decode_all(writers), return_counts=True)  \n",
        "  _writers = dict(zip(unique, counts))\n",
        "  writers_decoded = OH_W.decode_all(writers)\n",
        "  T = 0\n",
        "  F = 0\n",
        "  for _writer in _writers.keys():\n",
        "    _images = images[writers_decoded == _writer]\n",
        "    indexes = [np.random.randint(len(_images)) for _ in range(N)]\n",
        "    prediction = np.zeros((1096,))\n",
        "    for i in indexes:\n",
        "      prediction += semi_finder.predict(np.array([_images[i]]))[0]\n",
        "    prediction /= N\n",
        "\n",
        "    if _writer==OH_W.decode(finalizer.predict(np.array([prediction]))[0]):\n",
        "      T += 1\n",
        "    else:\n",
        "      F += 1\n",
        "  return T/(T+F)"
      ],
      "execution_count": 0,
      "outputs": []
    },
    {
      "cell_type": "code",
      "metadata": {
        "id": "Gm1yJ5xYrMXA",
        "colab_type": "code",
        "outputId": "0be11336-6a9f-4c5e-8787-32488d3c6941",
        "colab": {
          "base_uri": "https://localhost:8080/",
          "height": 102
        }
      },
      "source": [
        "%%time\n",
        "M = 20\n",
        "for N in [1, 5, 10]:\n",
        "  print('N: ', N, end='')\n",
        "  acc = 0\n",
        "  for _ in range(M):\n",
        "    acc += test3(images_test, writers_test, N=N)\n",
        "  acc /= M\n",
        "  print(' Accuracy: ', acc)"
      ],
      "execution_count": 0,
      "outputs": [
        {
          "output_type": "stream",
          "text": [
            "N:  1 Accuracy:  0.6699999999999999\n",
            "N:  5 Accuracy:  0.9875806451612904\n",
            "N:  10 Accuracy:  0.9972580645161291\n",
            "CPU times: user 5min 25s, sys: 1min 25s, total: 6min 50s\n",
            "Wall time: 9min 37s\n"
          ],
          "name": "stdout"
        }
      ]
    },
    {
      "cell_type": "markdown",
      "metadata": {
        "id": "uLX_IaEKJXwn",
        "colab_type": "text"
      },
      "source": [
        "# Model2"
      ]
    },
    {
      "cell_type": "code",
      "metadata": {
        "id": "JMqwGhgvBnGq",
        "colab_type": "code",
        "outputId": "e5365e2c-3c64-4c12-f59b-c816196cd57f",
        "colab": {
          "base_uri": "https://localhost:8080/",
          "height": 156
        }
      },
      "source": [
        "K.clear_session()"
      ],
      "execution_count": 56,
      "outputs": [
        {
          "output_type": "stream",
          "text": [
            "WARNING: Logging before flag parsing goes to stderr.\n",
            "W0708 07:22:25.667625 139875634698112 deprecation_wrapper.py:119] From /usr/local/lib/python3.6/dist-packages/keras/backend/tensorflow_backend.py:95: The name tf.reset_default_graph is deprecated. Please use tf.compat.v1.reset_default_graph instead.\n",
            "\n",
            "W0708 07:22:25.670102 139875634698112 deprecation_wrapper.py:119] From /usr/local/lib/python3.6/dist-packages/keras/backend/tensorflow_backend.py:98: The name tf.placeholder_with_default is deprecated. Please use tf.compat.v1.placeholder_with_default instead.\n",
            "\n",
            "W0708 07:22:25.706682 139875634698112 deprecation_wrapper.py:119] From /usr/local/lib/python3.6/dist-packages/keras/backend/tensorflow_backend.py:102: The name tf.get_default_graph is deprecated. Please use tf.compat.v1.get_default_graph instead.\n",
            "\n"
          ],
          "name": "stderr"
        }
      ]
    },
    {
      "cell_type": "code",
      "metadata": {
        "id": "3n_wvpZF_Vb8",
        "colab_type": "code",
        "outputId": "8be41d1c-ea37-453e-b829-674a4559471b",
        "colab": {
          "base_uri": "https://localhost:8080/",
          "height": 190
        }
      },
      "source": [
        "x_input = Input(shape=(40, 120, 1))\n",
        "F1 = Conv2D(filters=64, kernel_size=(3, 3), strides=1, padding='same', kernel_initializer='glorot_uniform')(x_input)\n",
        "F1 = LeakyReLU(alpha=0.1)(F1)\n",
        "F1 = Conv2D(filters=64, kernel_size=(3, 3), strides=1, padding='same', kernel_initializer='glorot_uniform')(F1)\n",
        "F1 = LeakyReLU(alpha=0.1)(F1)\n",
        "F1 = MaxPooling2D(pool_size=(2, 2), strides=2)(F1)\n",
        "\n",
        "F2 = Conv2D(filters=128, kernel_size=(3, 3), strides=1, padding='same', kernel_initializer='glorot_uniform')(F1)\n",
        "F2 = LeakyReLU(alpha=0.1)(F2)\n",
        "F2 = Conv2D(filters=128, kernel_size=(3, 3), strides=1, padding='same', kernel_initializer='glorot_uniform')(F2)\n",
        "F2 = LeakyReLU(alpha=0.1)(F2)\n",
        "F2 = MaxPooling2D(pool_size=(2, 2), strides=2)(F2)\n",
        "\n",
        "G2 = Conv2D(filters=128, kernel_size=(3, 3), strides=1, padding='same', kernel_initializer='glorot_uniform')(F1)\n",
        "G2 = LeakyReLU(alpha=0.1)(G2)\n",
        "G2 = Conv2D(filters=128, kernel_size=(3, 3), strides=1, padding='same', kernel_initializer='glorot_uniform')(G2)\n",
        "G2 = LeakyReLU(alpha=0.1)(G2)\n",
        "G2 = MaxPooling2D(pool_size=(2, 2), strides=2)(G2)\n",
        "\n",
        "C2 = Conv2D(filters=128, kernel_size=(3, 3), strides=1, padding='same', kernel_initializer='glorot_uniform')(G2)\n",
        "C2 = LeakyReLU(alpha=0.1)(C2)\n",
        "C2 = Conv2D(filters=128, kernel_size=(3, 3), strides=1, padding='same', kernel_initializer='glorot_uniform')(C2)\n",
        "C2 = LeakyReLU(alpha=0.1)(C2)\n",
        "_C2 = Add()([F2, C2])\n",
        "\n",
        "F3 = Conv2D(filters=256, kernel_size=(3, 3), strides=1, padding='same', kernel_initializer='glorot_uniform')(_C2)\n",
        "F3 = LeakyReLU(alpha=0.1)(F3)\n",
        "F3 = Conv2D(filters=256, kernel_size=(3, 3), strides=1, padding='same', kernel_initializer='glorot_uniform')(F3)\n",
        "F3 = LeakyReLU(alpha=0.1)(F3)\n",
        "F3 = MaxPooling2D(pool_size=(2, 2), strides=2)(F3)\n",
        "\n",
        "G3 = Conv2D(filters=256, kernel_size=(3, 3), strides=1, padding='same', kernel_initializer='glorot_uniform')(G2)\n",
        "G3 = LeakyReLU(alpha=0.1)(G3)\n",
        "G3 = Conv2D(filters=256, kernel_size=(3, 3), strides=1, padding='same', kernel_initializer='glorot_uniform')(G3)\n",
        "G3 = LeakyReLU(alpha=0.1)(G3)\n",
        "G3 = MaxPooling2D(pool_size=(2, 2), strides=2)(G3) \n",
        "\n",
        "C3 = Conv2D(filters=256, kernel_size=(3, 3), strides=1, padding='same', kernel_initializer='glorot_uniform')(G3)\n",
        "C3 = LeakyReLU(alpha=0.1)(C3)\n",
        "C3 = Conv2D(filters=256, kernel_size=(3, 3), strides=1, padding='same', kernel_initializer='glorot_uniform')(C3)\n",
        "C3 = LeakyReLU(alpha=0.1)(C3)\n",
        "_C3 = Add()([F3, C3])\n",
        "\n",
        "F4 = Conv2D(filters=512, kernel_size=(3, 3), strides=1, padding='same', kernel_initializer='glorot_uniform')(_C3)\n",
        "F4 = LeakyReLU(alpha=0.1)(F4)\n",
        "F4 = Conv2D(filters=512, kernel_size=(3, 3), strides=1, padding='same', kernel_initializer='glorot_uniform')(F4)\n",
        "F4 = LeakyReLU(alpha=0.1)(F4)\n",
        "F4 = MaxPooling2D(pool_size=(2, 2), strides=2)(F4)\n",
        "\n",
        "G4 = Conv2D(filters=512, kernel_size=(3, 3), strides=1, padding='same', kernel_initializer='glorot_uniform')(G3)\n",
        "G4 = LeakyReLU(alpha=0.1)(G4)\n",
        "G4 = Conv2D(filters=512, kernel_size=(3, 3), strides=1, padding='same', kernel_initializer='glorot_uniform')(G4)\n",
        "G4 = LeakyReLU(alpha=0.1)(G4)\n",
        "G4 = MaxPooling2D(pool_size=(2, 2), strides=2)(G4)\n",
        "\n",
        "C4 = Conv2D(filters=512, kernel_size=(3, 3), strides=1, padding='same', kernel_initializer='glorot_uniform')(G4)\n",
        "C4 = LeakyReLU(alpha=0.1)(C4)\n",
        "C4 = Conv2D(filters=512, kernel_size=(3, 3), strides=1, padding='same', kernel_initializer='glorot_uniform')(C4)\n",
        "C4 = LeakyReLU(alpha=0.1)(C4)\n",
        "_C4 = Add()([F4, C4])\n",
        "\n",
        "T = Flatten()(_C4)\n",
        "T = Dense(units=4096, kernel_initializer='glorot_uniform')(T)\n",
        "T = LeakyReLU(alpha=0.1)(T)\n",
        "T = Dropout(rate=0.5)(T)\n",
        "T = Dense(units=1096, kernel_initializer='glorot_uniform')(T)\n",
        "T = LeakyReLU(alpha=0.1, name='next_to_last')(T)\n",
        "T = Dropout(rate=0.5)(T)\n",
        "T = Dense(units=MAX_WRITER, activation='softmax', kernel_initializer='glorot_uniform', name='output_T')(T)\n",
        "\n",
        "R = Flatten()(G4)\n",
        "R = Dense(units=4096, kernel_initializer='glorot_uniform')(R)\n",
        "R = LeakyReLU(alpha=0.1)(R)\n",
        "R = Dropout(rate=0.5)(R)\n",
        "R = Dense(units=1096, kernel_initializer='glorot_uniform')(R)\n",
        "R = LeakyReLU(alpha=0.1)(R)\n",
        "R = Dropout(rate=0.5)(R)\n",
        "R = Dense(units=MAX_LENGTH, activation='softmax', kernel_initializer='glorot_uniform', name='output_R')(R)\n",
        "\n",
        "O = Concatenate(axis=1, name='output_O')([T, R])"
      ],
      "execution_count": 57,
      "outputs": [
        {
          "output_type": "stream",
          "text": [
            "W0708 07:22:26.758621 139875634698112 deprecation_wrapper.py:119] From /usr/local/lib/python3.6/dist-packages/keras/backend/tensorflow_backend.py:517: The name tf.placeholder is deprecated. Please use tf.compat.v1.placeholder instead.\n",
            "\n",
            "W0708 07:22:26.766458 139875634698112 deprecation_wrapper.py:119] From /usr/local/lib/python3.6/dist-packages/keras/backend/tensorflow_backend.py:4138: The name tf.random_uniform is deprecated. Please use tf.random.uniform instead.\n",
            "\n",
            "W0708 07:22:26.826241 139875634698112 deprecation_wrapper.py:119] From /usr/local/lib/python3.6/dist-packages/keras/backend/tensorflow_backend.py:3976: The name tf.nn.max_pool is deprecated. Please use tf.nn.max_pool2d instead.\n",
            "\n",
            "W0708 07:22:27.254263 139875634698112 deprecation.py:506] From /usr/local/lib/python3.6/dist-packages/keras/backend/tensorflow_backend.py:3445: calling dropout (from tensorflow.python.ops.nn_ops) with keep_prob is deprecated and will be removed in a future version.\n",
            "Instructions for updating:\n",
            "Please use `rate` instead of `keep_prob`. Rate should be set to `rate = 1 - keep_prob`.\n"
          ],
          "name": "stderr"
        }
      ]
    },
    {
      "cell_type": "code",
      "metadata": {
        "id": "onCr7fcgL7zt",
        "colab_type": "code",
        "outputId": "f563561c-7f91-4126-bc54-b5e996148481",
        "colab": {
          "base_uri": "https://localhost:8080/",
          "height": 68
        }
      },
      "source": [
        "T, R, O"
      ],
      "execution_count": 58,
      "outputs": [
        {
          "output_type": "execute_result",
          "data": {
            "text/plain": [
              "(<tf.Tensor 'output_T/Softmax:0' shape=(?, 310) dtype=float32>,\n",
              " <tf.Tensor 'output_R/Softmax:0' shape=(?, 13) dtype=float32>,\n",
              " <tf.Tensor 'output_O/concat:0' shape=(?, 323) dtype=float32>)"
            ]
          },
          "metadata": {
            "tags": []
          },
          "execution_count": 58
        }
      ]
    },
    {
      "cell_type": "code",
      "metadata": {
        "id": "Gj2GVOXLJlEU",
        "colab_type": "code",
        "colab": {}
      },
      "source": [
        "model2 = Model(inputs=x_input, outputs=[T, R, O], name='Model2')"
      ],
      "execution_count": 0,
      "outputs": []
    },
    {
      "cell_type": "code",
      "metadata": {
        "id": "2AjGizfnJkvS",
        "colab_type": "code",
        "outputId": "2f5271a4-072a-4afd-d120-d99b2de91375",
        "colab": {
          "base_uri": "https://localhost:8080/",
          "height": 1000
        }
      },
      "source": [
        "model2.summary()"
      ],
      "execution_count": 60,
      "outputs": [
        {
          "output_type": "stream",
          "text": [
            "__________________________________________________________________________________________________\n",
            "Layer (type)                    Output Shape         Param #     Connected to                     \n",
            "==================================================================================================\n",
            "input_1 (InputLayer)            (None, 40, 120, 1)   0                                            \n",
            "__________________________________________________________________________________________________\n",
            "conv2d_1 (Conv2D)               (None, 40, 120, 64)  640         input_1[0][0]                    \n",
            "__________________________________________________________________________________________________\n",
            "leaky_re_lu_1 (LeakyReLU)       (None, 40, 120, 64)  0           conv2d_1[0][0]                   \n",
            "__________________________________________________________________________________________________\n",
            "conv2d_2 (Conv2D)               (None, 40, 120, 64)  36928       leaky_re_lu_1[0][0]              \n",
            "__________________________________________________________________________________________________\n",
            "leaky_re_lu_2 (LeakyReLU)       (None, 40, 120, 64)  0           conv2d_2[0][0]                   \n",
            "__________________________________________________________________________________________________\n",
            "max_pooling2d_1 (MaxPooling2D)  (None, 20, 60, 64)   0           leaky_re_lu_2[0][0]              \n",
            "__________________________________________________________________________________________________\n",
            "conv2d_5 (Conv2D)               (None, 20, 60, 128)  73856       max_pooling2d_1[0][0]            \n",
            "__________________________________________________________________________________________________\n",
            "leaky_re_lu_5 (LeakyReLU)       (None, 20, 60, 128)  0           conv2d_5[0][0]                   \n",
            "__________________________________________________________________________________________________\n",
            "conv2d_6 (Conv2D)               (None, 20, 60, 128)  147584      leaky_re_lu_5[0][0]              \n",
            "__________________________________________________________________________________________________\n",
            "leaky_re_lu_6 (LeakyReLU)       (None, 20, 60, 128)  0           conv2d_6[0][0]                   \n",
            "__________________________________________________________________________________________________\n",
            "conv2d_3 (Conv2D)               (None, 20, 60, 128)  73856       max_pooling2d_1[0][0]            \n",
            "__________________________________________________________________________________________________\n",
            "max_pooling2d_3 (MaxPooling2D)  (None, 10, 30, 128)  0           leaky_re_lu_6[0][0]              \n",
            "__________________________________________________________________________________________________\n",
            "leaky_re_lu_3 (LeakyReLU)       (None, 20, 60, 128)  0           conv2d_3[0][0]                   \n",
            "__________________________________________________________________________________________________\n",
            "conv2d_7 (Conv2D)               (None, 10, 30, 128)  147584      max_pooling2d_3[0][0]            \n",
            "__________________________________________________________________________________________________\n",
            "conv2d_4 (Conv2D)               (None, 20, 60, 128)  147584      leaky_re_lu_3[0][0]              \n",
            "__________________________________________________________________________________________________\n",
            "leaky_re_lu_7 (LeakyReLU)       (None, 10, 30, 128)  0           conv2d_7[0][0]                   \n",
            "__________________________________________________________________________________________________\n",
            "conv2d_11 (Conv2D)              (None, 10, 30, 256)  295168      max_pooling2d_3[0][0]            \n",
            "__________________________________________________________________________________________________\n",
            "leaky_re_lu_4 (LeakyReLU)       (None, 20, 60, 128)  0           conv2d_4[0][0]                   \n",
            "__________________________________________________________________________________________________\n",
            "conv2d_8 (Conv2D)               (None, 10, 30, 128)  147584      leaky_re_lu_7[0][0]              \n",
            "__________________________________________________________________________________________________\n",
            "leaky_re_lu_11 (LeakyReLU)      (None, 10, 30, 256)  0           conv2d_11[0][0]                  \n",
            "__________________________________________________________________________________________________\n",
            "max_pooling2d_2 (MaxPooling2D)  (None, 10, 30, 128)  0           leaky_re_lu_4[0][0]              \n",
            "__________________________________________________________________________________________________\n",
            "leaky_re_lu_8 (LeakyReLU)       (None, 10, 30, 128)  0           conv2d_8[0][0]                   \n",
            "__________________________________________________________________________________________________\n",
            "conv2d_12 (Conv2D)              (None, 10, 30, 256)  590080      leaky_re_lu_11[0][0]             \n",
            "__________________________________________________________________________________________________\n",
            "add_1 (Add)                     (None, 10, 30, 128)  0           max_pooling2d_2[0][0]            \n",
            "                                                                 leaky_re_lu_8[0][0]              \n",
            "__________________________________________________________________________________________________\n",
            "leaky_re_lu_12 (LeakyReLU)      (None, 10, 30, 256)  0           conv2d_12[0][0]                  \n",
            "__________________________________________________________________________________________________\n",
            "conv2d_9 (Conv2D)               (None, 10, 30, 256)  295168      add_1[0][0]                      \n",
            "__________________________________________________________________________________________________\n",
            "max_pooling2d_5 (MaxPooling2D)  (None, 5, 15, 256)   0           leaky_re_lu_12[0][0]             \n",
            "__________________________________________________________________________________________________\n",
            "leaky_re_lu_9 (LeakyReLU)       (None, 10, 30, 256)  0           conv2d_9[0][0]                   \n",
            "__________________________________________________________________________________________________\n",
            "conv2d_13 (Conv2D)              (None, 5, 15, 256)   590080      max_pooling2d_5[0][0]            \n",
            "__________________________________________________________________________________________________\n",
            "conv2d_10 (Conv2D)              (None, 10, 30, 256)  590080      leaky_re_lu_9[0][0]              \n",
            "__________________________________________________________________________________________________\n",
            "leaky_re_lu_13 (LeakyReLU)      (None, 5, 15, 256)   0           conv2d_13[0][0]                  \n",
            "__________________________________________________________________________________________________\n",
            "conv2d_17 (Conv2D)              (None, 5, 15, 512)   1180160     max_pooling2d_5[0][0]            \n",
            "__________________________________________________________________________________________________\n",
            "leaky_re_lu_10 (LeakyReLU)      (None, 10, 30, 256)  0           conv2d_10[0][0]                  \n",
            "__________________________________________________________________________________________________\n",
            "conv2d_14 (Conv2D)              (None, 5, 15, 256)   590080      leaky_re_lu_13[0][0]             \n",
            "__________________________________________________________________________________________________\n",
            "leaky_re_lu_17 (LeakyReLU)      (None, 5, 15, 512)   0           conv2d_17[0][0]                  \n",
            "__________________________________________________________________________________________________\n",
            "max_pooling2d_4 (MaxPooling2D)  (None, 5, 15, 256)   0           leaky_re_lu_10[0][0]             \n",
            "__________________________________________________________________________________________________\n",
            "leaky_re_lu_14 (LeakyReLU)      (None, 5, 15, 256)   0           conv2d_14[0][0]                  \n",
            "__________________________________________________________________________________________________\n",
            "conv2d_18 (Conv2D)              (None, 5, 15, 512)   2359808     leaky_re_lu_17[0][0]             \n",
            "__________________________________________________________________________________________________\n",
            "add_2 (Add)                     (None, 5, 15, 256)   0           max_pooling2d_4[0][0]            \n",
            "                                                                 leaky_re_lu_14[0][0]             \n",
            "__________________________________________________________________________________________________\n",
            "leaky_re_lu_18 (LeakyReLU)      (None, 5, 15, 512)   0           conv2d_18[0][0]                  \n",
            "__________________________________________________________________________________________________\n",
            "conv2d_15 (Conv2D)              (None, 5, 15, 512)   1180160     add_2[0][0]                      \n",
            "__________________________________________________________________________________________________\n",
            "max_pooling2d_7 (MaxPooling2D)  (None, 2, 7, 512)    0           leaky_re_lu_18[0][0]             \n",
            "__________________________________________________________________________________________________\n",
            "leaky_re_lu_15 (LeakyReLU)      (None, 5, 15, 512)   0           conv2d_15[0][0]                  \n",
            "__________________________________________________________________________________________________\n",
            "conv2d_19 (Conv2D)              (None, 2, 7, 512)    2359808     max_pooling2d_7[0][0]            \n",
            "__________________________________________________________________________________________________\n",
            "conv2d_16 (Conv2D)              (None, 5, 15, 512)   2359808     leaky_re_lu_15[0][0]             \n",
            "__________________________________________________________________________________________________\n",
            "leaky_re_lu_19 (LeakyReLU)      (None, 2, 7, 512)    0           conv2d_19[0][0]                  \n",
            "__________________________________________________________________________________________________\n",
            "leaky_re_lu_16 (LeakyReLU)      (None, 5, 15, 512)   0           conv2d_16[0][0]                  \n",
            "__________________________________________________________________________________________________\n",
            "conv2d_20 (Conv2D)              (None, 2, 7, 512)    2359808     leaky_re_lu_19[0][0]             \n",
            "__________________________________________________________________________________________________\n",
            "max_pooling2d_6 (MaxPooling2D)  (None, 2, 7, 512)    0           leaky_re_lu_16[0][0]             \n",
            "__________________________________________________________________________________________________\n",
            "leaky_re_lu_20 (LeakyReLU)      (None, 2, 7, 512)    0           conv2d_20[0][0]                  \n",
            "__________________________________________________________________________________________________\n",
            "add_3 (Add)                     (None, 2, 7, 512)    0           max_pooling2d_6[0][0]            \n",
            "                                                                 leaky_re_lu_20[0][0]             \n",
            "__________________________________________________________________________________________________\n",
            "flatten_1 (Flatten)             (None, 7168)         0           add_3[0][0]                      \n",
            "__________________________________________________________________________________________________\n",
            "flatten_2 (Flatten)             (None, 7168)         0           max_pooling2d_7[0][0]            \n",
            "__________________________________________________________________________________________________\n",
            "dense_1 (Dense)                 (None, 4096)         29364224    flatten_1[0][0]                  \n",
            "__________________________________________________________________________________________________\n",
            "dense_3 (Dense)                 (None, 4096)         29364224    flatten_2[0][0]                  \n",
            "__________________________________________________________________________________________________\n",
            "leaky_re_lu_21 (LeakyReLU)      (None, 4096)         0           dense_1[0][0]                    \n",
            "__________________________________________________________________________________________________\n",
            "leaky_re_lu_22 (LeakyReLU)      (None, 4096)         0           dense_3[0][0]                    \n",
            "__________________________________________________________________________________________________\n",
            "dropout_1 (Dropout)             (None, 4096)         0           leaky_re_lu_21[0][0]             \n",
            "__________________________________________________________________________________________________\n",
            "dropout_3 (Dropout)             (None, 4096)         0           leaky_re_lu_22[0][0]             \n",
            "__________________________________________________________________________________________________\n",
            "dense_2 (Dense)                 (None, 1096)         4490312     dropout_1[0][0]                  \n",
            "__________________________________________________________________________________________________\n",
            "dense_4 (Dense)                 (None, 1096)         4490312     dropout_3[0][0]                  \n",
            "__________________________________________________________________________________________________\n",
            "next_to_last (LeakyReLU)        (None, 1096)         0           dense_2[0][0]                    \n",
            "__________________________________________________________________________________________________\n",
            "leaky_re_lu_23 (LeakyReLU)      (None, 1096)         0           dense_4[0][0]                    \n",
            "__________________________________________________________________________________________________\n",
            "dropout_2 (Dropout)             (None, 1096)         0           next_to_last[0][0]               \n",
            "__________________________________________________________________________________________________\n",
            "dropout_4 (Dropout)             (None, 1096)         0           leaky_re_lu_23[0][0]             \n",
            "__________________________________________________________________________________________________\n",
            "output_T (Dense)                (None, 310)          340070      dropout_2[0][0]                  \n",
            "__________________________________________________________________________________________________\n",
            "output_R (Dense)                (None, 13)           14261       dropout_4[0][0]                  \n",
            "__________________________________________________________________________________________________\n",
            "output_O (Concatenate)          (None, 323)          0           output_T[0][0]                   \n",
            "                                                                 output_R[0][0]                   \n",
            "==================================================================================================\n",
            "Total params: 83,589,227\n",
            "Trainable params: 83,589,227\n",
            "Non-trainable params: 0\n",
            "__________________________________________________________________________________________________\n"
          ],
          "name": "stdout"
        }
      ]
    },
    {
      "cell_type": "code",
      "metadata": {
        "id": "69L8BOdqSvsC",
        "colab_type": "code",
        "outputId": "80af0337-6b92-417b-da93-44d788f2b3d1",
        "colab": {
          "base_uri": "https://localhost:8080/",
          "height": 34
        }
      },
      "source": [
        "alpha = K.variable(value=0.5, dtype='float32', name='alpha')\n",
        "alpha"
      ],
      "execution_count": 61,
      "outputs": [
        {
          "output_type": "execute_result",
          "data": {
            "text/plain": [
              "<tf.Variable 'alpha:0' shape=() dtype=float32_ref>"
            ]
          },
          "metadata": {
            "tags": []
          },
          "execution_count": 61
        }
      ]
    },
    {
      "cell_type": "code",
      "metadata": {
        "id": "5Ba3w7XQKte1",
        "colab_type": "code",
        "colab": {}
      },
      "source": [
        "def CustomLoss(y_true, y_pred):\n",
        "  y_true1 = y_true[:, :MAX_WRITER]\n",
        "  y_true2 = y_true[:, MAX_WRITER:]\n",
        "\n",
        "  y_pred1 = y_pred[:, :MAX_WRITER]\n",
        "  y_pred2 = y_pred[:, MAX_WRITER:]\n",
        "  \n",
        "  return alpha*K.categorical_crossentropy(y_true1, y_pred1)+(1-alpha)*K.categorical_crossentropy(y_true2, y_pred2)"
      ],
      "execution_count": 0,
      "outputs": []
    },
    {
      "cell_type": "code",
      "metadata": {
        "id": "qYL3xooUJkiO",
        "colab_type": "code",
        "outputId": "dcc244ee-d4d4-4ed6-f211-008637c57290",
        "colab": {
          "base_uri": "https://localhost:8080/",
          "height": 71
        }
      },
      "source": [
        "model2.compile(optimizer=Adam(lr=0.0001), \\\n",
        "               loss={'output_T' : categorical_crossentropy, 'output_R': categorical_crossentropy, 'output_O': CustomLoss}, \\\n",
        "               loss_weights={'output_T': 0, 'output_R': 0, 'output_O':1}, \\\n",
        "               metrics=['acc'])"
      ],
      "execution_count": 63,
      "outputs": [
        {
          "output_type": "stream",
          "text": [
            "W0708 07:22:36.468683 139875634698112 deprecation_wrapper.py:119] From /usr/local/lib/python3.6/dist-packages/keras/optimizers.py:790: The name tf.train.Optimizer is deprecated. Please use tf.compat.v1.train.Optimizer instead.\n",
            "\n"
          ],
          "name": "stderr"
        }
      ]
    },
    {
      "cell_type": "code",
      "metadata": {
        "id": "qvbezZOEJkVv",
        "colab_type": "code",
        "colab": {}
      },
      "source": [
        "plot_model(model2, to_file='advanced_plot.png', show_shapes=True, show_layer_names=True)"
      ],
      "execution_count": 0,
      "outputs": []
    },
    {
      "cell_type": "markdown",
      "metadata": {
        "id": "2wSByvl3sFyj",
        "colab_type": "text"
      },
      "source": [
        "# Train Model2"
      ]
    },
    {
      "cell_type": "code",
      "metadata": {
        "id": "FmK02Q73JkIM",
        "colab_type": "code",
        "colab": {}
      },
      "source": [
        "reduce = ReduceLROnPlateau(monitor='val_loss', factor=0.5, patience=2, verbose=1, mode='min', #add min_delta\n",
        "                           cooldown=2, min_le=1e-8)\n",
        "\n",
        "estop = EarlyStopping(monitor='val_loss', min_delta=0, patience=8, verbose=1, mode='min')\n",
        "\n",
        "excel = CSVLogger(filename='./Model2_stats.csv', separator=',', append=False)\n",
        "\n",
        "checkp = ModelCheckpoint('./Model2_weights.h5', monitor='val_loss', verbose=1, save_best_only=True, save_weights_only=True, mode='auto', period=1)\n",
        "\n",
        "def podesi(epoch):\n",
        "  if epoch in [10, 13, 16, 19, 22, 25, 28]:\n",
        "    K.set_value(alpha, 0.5+(epoch+1)*0.066)\n",
        "alphaChanger = LambdaCallback(on_epoch_end=lambda epoch, _: podesi(epoch))  "
      ],
      "execution_count": 0,
      "outputs": []
    },
    {
      "cell_type": "code",
      "metadata": {
        "id": "pmzwGl_iJjj2",
        "colab_type": "code",
        "outputId": "900ab909-2f64-4351-ace3-47ca0ad34181",
        "colab": {
          "base_uri": "https://localhost:8080/",
          "height": 1000
        }
      },
      "source": [
        "history = model2.fit(images_train, [writers_train, lengths_train, np.concatenate((writers_train, lengths_train), axis=1)], \\\n",
        "                    verbose=1, epochs=40, batch_size=100, validation_split=0.1, callbacks=[reduce, estop, excel, checkp, alphaChanger])"
      ],
      "execution_count": 0,
      "outputs": [
        {
          "output_type": "stream",
          "text": [
            "W0708 07:24:45.563031 139875634698112 deprecation.py:323] From /usr/local/lib/python3.6/dist-packages/tensorflow/python/ops/math_grad.py:1250: add_dispatch_support.<locals>.wrapper (from tensorflow.python.ops.array_ops) is deprecated and will be removed in a future version.\n",
            "Instructions for updating:\n",
            "Use tf.where in 2.0, which has the same broadcast rule as np.where\n"
          ],
          "name": "stderr"
        },
        {
          "output_type": "stream",
          "text": [
            "Train on 63767 samples, validate on 7086 samples\n",
            "Epoch 1/40\n",
            "63767/63767 [==============================] - 445s 7ms/step - loss: 3.4385 - output_T_loss: 5.3876 - output_R_loss: 1.4894 - output_O_loss: 3.4385 - output_T_acc: 0.0128 - output_R_acc: 0.4214 - output_O_acc: 1.8819e-04 - val_loss: 2.7620 - val_output_T_loss: 4.5518 - val_output_R_loss: 0.9722 - val_output_O_loss: 2.7620 - val_output_T_acc: 0.0569 - val_output_R_acc: 0.6205 - val_output_O_acc: 5.6449e-04\n",
            "\n",
            "Epoch 00001: val_loss improved from inf to 2.76202, saving model to ./Model2_weights.h5\n",
            "Epoch 2/40\n",
            "63767/63767 [==============================] - 427s 7ms/step - loss: 2.4211 - output_T_loss: 4.0397 - output_R_loss: 0.8025 - output_O_loss: 2.4211 - output_T_acc: 0.1009 - output_R_acc: 0.6883 - output_O_acc: 0.0077 - val_loss: 1.9032 - val_output_T_loss: 3.1859 - val_output_R_loss: 0.6204 - val_output_O_loss: 1.9032 - val_output_T_acc: 0.2305 - val_output_R_acc: 0.7639 - val_output_O_acc: 0.0193\n",
            "\n",
            "Epoch 00002: val_loss improved from 2.76202 to 1.90316, saving model to ./Model2_weights.h5\n",
            "Epoch 3/40\n",
            "63767/63767 [==============================] - 427s 7ms/step - loss: 1.8071 - output_T_loss: 3.0619 - output_R_loss: 0.5522 - output_O_loss: 1.8071 - output_T_acc: 0.2389 - output_R_acc: 0.7944 - output_O_acc: 0.0340 - val_loss: 1.4589 - val_output_T_loss: 2.4317 - val_output_R_loss: 0.4861 - val_output_O_loss: 1.4589 - val_output_T_acc: 0.3834 - val_output_R_acc: 0.8235 - val_output_O_acc: 0.0497\n",
            "\n",
            "Epoch 00003: val_loss improved from 1.90316 to 1.45893, saving model to ./Model2_weights.h5\n",
            "Epoch 4/40\n",
            "63767/63767 [==============================] - 427s 7ms/step - loss: 1.4315 - output_T_loss: 2.4690 - output_R_loss: 0.3940 - output_O_loss: 1.4315 - output_T_acc: 0.3578 - output_R_acc: 0.8584 - output_O_acc: 0.0636 - val_loss: 1.1972 - val_output_T_loss: 2.0291 - val_output_R_loss: 0.3654 - val_output_O_loss: 1.1972 - val_output_T_acc: 0.4699 - val_output_R_acc: 0.8685 - val_output_O_acc: 0.0827\n",
            "\n",
            "Epoch 00004: val_loss improved from 1.45893 to 1.19721, saving model to ./Model2_weights.h5\n",
            "Epoch 5/40\n",
            "63767/63767 [==============================] - 427s 7ms/step - loss: 1.1706 - output_T_loss: 2.0531 - output_R_loss: 0.2882 - output_O_loss: 1.1706 - output_T_acc: 0.4485 - output_R_acc: 0.8972 - output_O_acc: 0.0833 - val_loss: 1.0295 - val_output_T_loss: 1.7314 - val_output_R_loss: 0.3276 - val_output_O_loss: 1.0295 - val_output_T_acc: 0.5320 - val_output_R_acc: 0.8820 - val_output_O_acc: 0.0923\n",
            "\n",
            "Epoch 00005: val_loss improved from 1.19721 to 1.02946, saving model to ./Model2_weights.h5\n",
            "Epoch 6/40\n",
            "63767/63767 [==============================] - 426s 7ms/step - loss: 0.9751 - output_T_loss: 1.7367 - output_R_loss: 0.2135 - output_O_loss: 0.9751 - output_T_acc: 0.5235 - output_R_acc: 0.9253 - output_O_acc: 0.0943 - val_loss: 0.9084 - val_output_T_loss: 1.5262 - val_output_R_loss: 0.2907 - val_output_O_loss: 0.9084 - val_output_T_acc: 0.5852 - val_output_R_acc: 0.8973 - val_output_O_acc: 0.1084\n",
            "\n",
            "Epoch 00006: val_loss improved from 1.02946 to 0.90843, saving model to ./Model2_weights.h5\n",
            "Epoch 7/40\n",
            "63767/63767 [==============================] - 427s 7ms/step - loss: 0.8144 - output_T_loss: 1.4730 - output_R_loss: 0.1558 - output_O_loss: 0.8144 - output_T_acc: 0.5876 - output_R_acc: 0.9466 - output_O_acc: 0.0998 - val_loss: 0.8523 - val_output_T_loss: 1.4248 - val_output_R_loss: 0.2799 - val_output_O_loss: 0.8523 - val_output_T_acc: 0.6095 - val_output_R_acc: 0.9060 - val_output_O_acc: 0.1010\n",
            "\n",
            "Epoch 00007: val_loss improved from 0.90843 to 0.85234, saving model to ./Model2_weights.h5\n",
            "Epoch 8/40\n",
            "63767/63767 [==============================] - 429s 7ms/step - loss: 0.6807 - output_T_loss: 1.2455 - output_R_loss: 0.1159 - output_O_loss: 0.6807 - output_T_acc: 0.6435 - output_R_acc: 0.9605 - output_O_acc: 0.1015 - val_loss: 0.8162 - val_output_T_loss: 1.3549 - val_output_R_loss: 0.2775 - val_output_O_loss: 0.8162 - val_output_T_acc: 0.6260 - val_output_R_acc: 0.9150 - val_output_O_acc: 0.1167\n",
            "\n",
            "Epoch 00008: val_loss improved from 0.85234 to 0.81616, saving model to ./Model2_weights.h5\n",
            "Epoch 9/40\n",
            "63767/63767 [==============================] - 429s 7ms/step - loss: 0.5689 - output_T_loss: 1.0496 - output_R_loss: 0.0883 - output_O_loss: 0.5689 - output_T_acc: 0.6950 - output_R_acc: 0.9684 - output_O_acc: 0.1036 - val_loss: 0.7295 - val_output_T_loss: 1.1705 - val_output_R_loss: 0.2886 - val_output_O_loss: 0.7295 - val_output_T_acc: 0.6767 - val_output_R_acc: 0.9152 - val_output_O_acc: 0.1280\n",
            "\n",
            "Epoch 00009: val_loss improved from 0.81616 to 0.72954, saving model to ./Model2_weights.h5\n",
            "Epoch 10/40\n",
            "63767/63767 [==============================] - 427s 7ms/step - loss: 0.4708 - output_T_loss: 0.8704 - output_R_loss: 0.0711 - output_O_loss: 0.4708 - output_T_acc: 0.7423 - output_R_acc: 0.9753 - output_O_acc: 0.1058 - val_loss: 0.7299 - val_output_T_loss: 1.1490 - val_output_R_loss: 0.3107 - val_output_O_loss: 0.7299 - val_output_T_acc: 0.6846 - val_output_R_acc: 0.9141 - val_output_O_acc: 0.1281\n",
            "\n",
            "Epoch 00010: val_loss did not improve from 0.72954\n",
            "Epoch 11/40\n",
            "63767/63767 [==============================] - 427s 7ms/step - loss: 0.3935 - output_T_loss: 0.7260 - output_R_loss: 0.0611 - output_O_loss: 0.3935 - output_T_acc: 0.7790 - output_R_acc: 0.9788 - output_O_acc: 0.1086 - val_loss: 0.7718 - val_output_T_loss: 1.2175 - val_output_R_loss: 0.3260 - val_output_O_loss: 0.7718 - val_output_T_acc: 0.6681 - val_output_R_acc: 0.9193 - val_output_O_acc: 0.1188\n",
            "\n",
            "Epoch 00011: ReduceLROnPlateau reducing learning rate to 4.999999873689376e-05.\n",
            "\n",
            "Epoch 00011: val_loss did not improve from 0.72954\n",
            "Epoch 12/40\n",
            "63767/63767 [==============================] - 426s 7ms/step - loss: -2.1258 - output_T_loss: 0.5986 - output_R_loss: 12.6539 - output_O_loss: -2.1258 - output_T_acc: 0.8182 - output_R_acc: 0.2117 - output_O_acc: 0.0628 - val_loss: -1.7175 - val_output_T_loss: 1.0121 - val_output_R_loss: 13.0902 - val_output_O_loss: -1.7175 - val_output_T_acc: 0.7255 - val_output_R_acc: 0.1878 - val_output_O_acc: 0.0494\n",
            "\n",
            "Epoch 00012: val_loss improved from 0.72954 to -1.71752, saving model to ./Model2_weights.h5\n",
            "Epoch 13/40\n",
            "63767/63767 [==============================] - 426s 7ms/step - loss: -2.4643 - output_T_loss: 0.4110 - output_R_loss: 13.1338 - output_O_loss: -2.4643 - output_T_acc: 0.8701 - output_R_acc: 0.1851 - output_O_acc: 0.0410 - val_loss: -1.7017 - val_output_T_loss: 1.0250 - val_output_R_loss: 13.0902 - val_output_O_loss: -1.7017 - val_output_T_acc: 0.7319 - val_output_R_acc: 0.1878 - val_output_O_acc: 0.0464\n",
            "\n",
            "Epoch 00013: val_loss did not improve from -1.71752\n",
            "Epoch 14/40\n",
            "63767/63767 [==============================] - 426s 7ms/step - loss: -2.5640 - output_T_loss: 0.3298 - output_R_loss: 13.1343 - output_O_loss: -2.5640 - output_T_acc: 0.8944 - output_R_acc: 0.1851 - output_O_acc: 0.0386 - val_loss: -1.7051 - val_output_T_loss: 1.0222 - val_output_R_loss: 13.0902 - val_output_O_loss: -1.7051 - val_output_T_acc: 0.7337 - val_output_R_acc: 0.1878 - val_output_O_acc: 0.0358\n",
            "\n",
            "Epoch 00014: ReduceLROnPlateau reducing learning rate to 2.499999936844688e-05.\n",
            "\n",
            "Epoch 00014: val_loss did not improve from -1.71752\n",
            "Epoch 15/40\n",
            "63767/63767 [==============================] - 426s 7ms/step - loss: -5.2607 - output_T_loss: 0.2165 - output_R_loss: 13.1344 - output_O_loss: -5.2607 - output_T_acc: 0.9310 - output_R_acc: 0.1851 - output_O_acc: 0.0396 - val_loss: -4.0599 - val_output_T_loss: 1.0467 - val_output_R_loss: 13.0906 - val_output_O_loss: -4.0599 - val_output_T_acc: 0.7440 - val_output_R_acc: 0.1878 - val_output_O_acc: 0.0320\n",
            "\n",
            "Epoch 00015: val_loss improved from -1.71752 to -4.05986, saving model to ./Model2_weights.h5\n",
            "Epoch 16/40\n",
            "63767/63767 [==============================] - 427s 7ms/step - loss: -5.3084 - output_T_loss: 0.1831 - output_R_loss: 13.1349 - output_O_loss: -5.3084 - output_T_acc: 0.9400 - output_R_acc: 0.1851 - output_O_acc: 0.0454 - val_loss: -4.0580 - val_output_T_loss: 1.0480 - val_output_R_loss: 13.0906 - val_output_O_loss: -4.0580 - val_output_T_acc: 0.7499 - val_output_R_acc: 0.1878 - val_output_O_acc: 0.0284\n",
            "\n",
            "Epoch 00016: val_loss did not improve from -4.05986\n",
            "Epoch 17/40\n",
            "63767/63767 [==============================] - 428s 7ms/step - loss: -5.3403 - output_T_loss: 0.1608 - output_R_loss: 13.1352 - output_O_loss: -5.3403 - output_T_acc: 0.9480 - output_R_acc: 0.1851 - output_O_acc: 0.0460 - val_loss: -3.9999 - val_output_T_loss: 1.0888 - val_output_R_loss: 13.0906 - val_output_O_loss: -3.9999 - val_output_T_acc: 0.7467 - val_output_R_acc: 0.1878 - val_output_O_acc: 0.0397\n",
            "\n",
            "Epoch 00017: ReduceLROnPlateau reducing learning rate to 1.249999968422344e-05.\n",
            "\n",
            "Epoch 00017: val_loss did not improve from -4.05986\n",
            "Epoch 18/40\n",
            "63767/63767 [==============================] - 427s 7ms/step - loss: -7.9767 - output_T_loss: 0.1192 - output_R_loss: 13.1352 - output_O_loss: -7.9767 - output_T_acc: 0.9610 - output_R_acc: 0.1851 - output_O_acc: 0.0606 - val_loss: -6.3262 - val_output_T_loss: 1.1197 - val_output_R_loss: 13.0906 - val_output_O_loss: -6.3262 - val_output_T_acc: 0.7561 - val_output_R_acc: 0.1878 - val_output_O_acc: 0.0495\n",
            "\n",
            "Epoch 00018: val_loss improved from -4.05986 to -6.32619, saving model to ./Model2_weights.h5\n",
            "Epoch 19/40\n",
            "18300/63767 [=======>......................] - ETA: 4:53 - loss: -7.9889 - output_T_loss: 0.1133 - output_R_loss: 13.1393 - output_O_loss: -7.9889 - output_T_acc: 0.9632 - output_R_acc: 0.1848 - output_O_acc: 0.0630"
          ],
          "name": "stdout"
        }
      ]
    },
    {
      "cell_type": "code",
      "metadata": {
        "id": "J-6cOBBTpc_M",
        "colab_type": "code",
        "colab": {}
      },
      "source": [
        "!cp './Model2_weight.h5' './drive/My Drive/ml_sem/'"
      ],
      "execution_count": 0,
      "outputs": []
    },
    {
      "cell_type": "markdown",
      "metadata": {
        "id": "m4Ld2QtnE6M9",
        "colab_type": "text"
      },
      "source": [
        "# Evaluate Model2"
      ]
    },
    {
      "cell_type": "code",
      "metadata": {
        "id": "2dONS2cDHMeB",
        "colab_type": "code",
        "colab": {}
      },
      "source": [
        "#model2.load_weights('./Model2_weights.h5')"
      ],
      "execution_count": 0,
      "outputs": []
    },
    {
      "cell_type": "code",
      "metadata": {
        "id": "vQmE3DpH0IIH",
        "colab_type": "code",
        "colab": {}
      },
      "source": [
        "results = model2.evaluate(images_test, [writers_test, lengths_test, np.concatenate((writers_test, lengths_test), axis=1)])"
      ],
      "execution_count": 0,
      "outputs": []
    },
    {
      "cell_type": "code",
      "metadata": {
        "id": "uLrwkakor7jx",
        "colab_type": "code",
        "colab": {}
      },
      "source": [
        "for result in zip(model2.metrics_names, results):\n",
        "  print(result[0], ' : ', result[1])"
      ],
      "execution_count": 0,
      "outputs": []
    },
    {
      "cell_type": "code",
      "metadata": {
        "id": "DK3QBzvIsbrN",
        "colab_type": "code",
        "colab": {}
      },
      "source": [
        "history.history.keys()"
      ],
      "execution_count": 0,
      "outputs": []
    },
    {
      "cell_type": "code",
      "metadata": {
        "id": "bOA_sDyzrNO-",
        "colab_type": "code",
        "colab": {}
      },
      "source": [
        "epoch = history.epoch\n",
        "acc = history.history['output_T_acc']\n",
        "val_acc = history.history['val_output_T_acc']\n",
        "plt.title('Accuracy plot writer identification')\n",
        "plt.plot(epoch, acc, color='blue', label='training')\n",
        "plt.plot(epoch, val_acc, color='orange', label='validation')\n",
        "plt.xlabel('epoch')\n",
        "plt.ylabel('accuracy')\n",
        "plt.legend(loc='best')\n",
        "plt.show()"
      ],
      "execution_count": 0,
      "outputs": []
    },
    {
      "cell_type": "code",
      "metadata": {
        "id": "hcqDkZZDrsxR",
        "colab_type": "code",
        "colab": {}
      },
      "source": [
        "epoch = history.epoch\n",
        "loss = history.history['output_T_loss']\n",
        "val_loss = history.history['val_output_T_loss']\n",
        "plt.title('Loss plot writer identification')\n",
        "plt.plot(epoch, loss, color='blue', label='training')\n",
        "plt.plot(epoch, val_loss, color='orange', label='validation')\n",
        "plt.xlabel('epoch')\n",
        "plt.ylabel('loss')\n",
        "plt.legend(loc='best')\n",
        "plt.show()"
      ],
      "execution_count": 0,
      "outputs": []
    },
    {
      "cell_type": "code",
      "metadata": {
        "id": "R9YuuZ8cr0al",
        "colab_type": "code",
        "colab": {}
      },
      "source": [
        "epoch = history.epoch\n",
        "fig = plt.figure(figsize=(7, 7))\n",
        "accT = history.history['output_T_acc']\n",
        "accR = history.history['output_R_acc']\n",
        "accO = history.history['output_O_acc']\n",
        "vaccT = history.history['val_output_T_acc']\n",
        "vaccR = history.history['val_output_R_acc']\n",
        "vaccO = history.history['val_output_O_acc']\n",
        "plt.title('Accuracy plot main/auxilary/both task')\n",
        "plt.plot(epoch, accT, color='green', label='Writer Identification')\n",
        "plt.plot(epoch, accR, color='red', label='Word Length')\n",
        "plt.plot(epoch, accO, color='blue', label='Both task')\n",
        "plt.plot(epoch, vaccT, 'g--', label='Writer Identification Valid')\n",
        "plt.plot(epoch, vaccR, 'r--', label='Word Length Valid')\n",
        "plt.plot(epoch, vaccO, 'b--', label='Both task Valid')\n",
        "plt.xlabel('epoch')\n",
        "plt.ylabel('accuracy')\n",
        "plt.legend(loc='best')\n",
        "plt.show()"
      ],
      "execution_count": 0,
      "outputs": []
    },
    {
      "cell_type": "code",
      "metadata": {
        "id": "ZfdaeTVDtavQ",
        "colab_type": "code",
        "colab": {}
      },
      "source": [
        "epoch = history.epoch\n",
        "fig = plt.figure(figsize=(7, 7))\n",
        "accT = history.history['output_T_loss']\n",
        "accR = history.history['output_R_loss']\n",
        "accO = history.history['output_O_loss']\n",
        "vaccT = history.history['val_output_T_loss']\n",
        "vaccR = history.history['val_output_R_loss']\n",
        "vaccO = history.history['val_output_O_loss']\n",
        "plt.title('Loss plot main/auxilary/both task')\n",
        "plt.plot(epoch, accT, color='green', label='Writer Identification')\n",
        "plt.plot(epoch, accR, color='red', label='Word Length')\n",
        "plt.plot(epoch, accO, color='blue', label='Both task')\n",
        "plt.plot(epoch, vaccT, 'g--', label='Writer Identification Valid')\n",
        "plt.plot(epoch, vaccR, 'r--', label='Word Length Valid')\n",
        "plt.plot(epoch, vaccO, 'b--', label='Both task Valid')\n",
        "plt.xlabel('epoch')\n",
        "plt.ylabel('Loss')\n",
        "plt.legend(loc='best')\n",
        "plt.show()"
      ],
      "execution_count": 0,
      "outputs": []
    },
    {
      "cell_type": "code",
      "metadata": {
        "id": "6ZvtTm4GtnEp",
        "colab_type": "code",
        "colab": {}
      },
      "source": [
        "def test1(images, writers, N=1):\n",
        "  unique, counts = np.unique(OH_W.decode_all(writers), return_counts=True)  # Ok, svi imaju vise od 20\n",
        "  _writers = dict(zip(unique, counts))\n",
        "  writers_decoded = OH_W.decode_all(writers)\n",
        "  T = 0\n",
        "  F = 0\n",
        "  for _writer in _writers.keys():\n",
        "    _images = images[writers_decoded == _writer]\n",
        "    indexes = [np.random.randint(len(_images)) for _ in range(N)]\n",
        "    prediction = [OH_W.decode(model2.predict(np.array([_images[i]]))[0]) for i in indexes]\n",
        "    \n",
        "    count = Counter(prediction)\n",
        "    if _writer==count.most_common(1)[0][0]:\n",
        "      T += 1\n",
        "    else:\n",
        "      F += 1\n",
        "  return T/(T+F)"
      ],
      "execution_count": 0,
      "outputs": []
    },
    {
      "cell_type": "code",
      "metadata": {
        "id": "xhUT-gApv5pl",
        "colab_type": "code",
        "colab": {}
      },
      "source": [
        "%%time\n",
        "M = 20\n",
        "for N in [1, 5, 10]:\n",
        "  print('N: ', N, end='')\n",
        "  acc = 0\n",
        "  for _ in range(M):\n",
        "    acc += test1(images_test, writers_test, N=N)\n",
        "  acc /= M\n",
        "  print(' Accuracy: ', acc)"
      ],
      "execution_count": 0,
      "outputs": []
    },
    {
      "cell_type": "code",
      "metadata": {
        "id": "WnqO4VNLuw_H",
        "colab_type": "code",
        "colab": {}
      },
      "source": [
        "finder = Model(inputs=model2.input, outputs=model2.get_layer('output_T').output)"
      ],
      "execution_count": 0,
      "outputs": []
    },
    {
      "cell_type": "code",
      "metadata": {
        "id": "mjZffhA0u1Rw",
        "colab_type": "code",
        "colab": {}
      },
      "source": [
        "finder.summary()"
      ],
      "execution_count": 0,
      "outputs": []
    },
    {
      "cell_type": "code",
      "metadata": {
        "id": "l6TVfE5RvVhY",
        "colab_type": "code",
        "colab": {}
      },
      "source": [
        "def test2(images, writers, N=1):\n",
        "  unique, counts = np.unique(OH_W.decode_all(writers), return_counts=True)  \n",
        "  _writers = dict(zip(unique, counts))\n",
        "  writers_decoded = OH_W.decode_all(writers)\n",
        "  T = 0\n",
        "  F = 0\n",
        "  for _writer in _writers.keys():\n",
        "    _images = images[writers_decoded == _writer]\n",
        "    indexes = [np.random.randint(len(_images)) for _ in range(N)]\n",
        "    prediction = np.zeros((310,))\n",
        "    for i in indexes:\n",
        "      prediction += finder.predict(np.array([_images[i]]))[0]\n",
        "    prediction /= N\n",
        "\n",
        "    _prediction = np.zeros((310,))\n",
        "    _prediction[np.argmax(prediction)] = 1\n",
        "    if _writer==OH_W.decode(_prediction):\n",
        "      T += 1\n",
        "    else:\n",
        "      F += 1\n",
        "  return T/(T+F)"
      ],
      "execution_count": 0,
      "outputs": []
    },
    {
      "cell_type": "code",
      "metadata": {
        "id": "eozG8fyKxVcB",
        "colab_type": "code",
        "colab": {}
      },
      "source": [
        "%%time\n",
        "M = 20  \n",
        "for N in [1, 5, 10]:\n",
        "  print('N: ', N, end='')\n",
        "  acc = 0\n",
        "  for _ in range(M):\n",
        "    acc += test2(images_test, writers_test, N=N)\n",
        "  acc /= M\n",
        "  print(' Accuracy: ', acc)"
      ],
      "execution_count": 0,
      "outputs": []
    },
    {
      "cell_type": "code",
      "metadata": {
        "id": "PjzLC80ND0wn",
        "colab_type": "code",
        "colab": {}
      },
      "source": [
        "semi_finder = Model(inputs=model2.input, outputs=model2.get_layer('next_to_last').output)"
      ],
      "execution_count": 0,
      "outputs": []
    },
    {
      "cell_type": "code",
      "metadata": {
        "id": "bECbv8MCFH7k",
        "colab_type": "code",
        "colab": {}
      },
      "source": [
        "semi_finder.summary()"
      ],
      "execution_count": 0,
      "outputs": []
    },
    {
      "cell_type": "code",
      "metadata": {
        "id": "bBkizqXIFKEY",
        "colab_type": "code",
        "colab": {}
      },
      "source": [
        "x_input = Input(shape=(1096,))\n",
        "x = LeakyReLU(alpha=0.1, name='next_to_last')(x_input)\n",
        "y = Dense(units=MAX_WRITER, activation='sigmoid', kernel_initializer='glorot_uniform', name='last')(x)\n",
        "finalizer = Model(inputs=x_input, outputs=y)\n",
        "finalizer.summary()"
      ],
      "execution_count": 0,
      "outputs": []
    },
    {
      "cell_type": "code",
      "metadata": {
        "id": "i2gpaNIsFTpj",
        "colab_type": "code",
        "colab": {}
      },
      "source": [
        "finalizer.weights"
      ],
      "execution_count": 0,
      "outputs": []
    },
    {
      "cell_type": "code",
      "metadata": {
        "id": "TZKxIu-8FYp7",
        "colab_type": "code",
        "colab": {}
      },
      "source": [
        "model2.weights"
      ],
      "execution_count": 0,
      "outputs": []
    },
    {
      "cell_type": "code",
      "metadata": {
        "id": "YjPTXGQtFlGm",
        "colab_type": "code",
        "colab": {}
      },
      "source": [
        "finalizer.set_weights(model2.get_weights()[-4:-2])"
      ],
      "execution_count": 0,
      "outputs": []
    },
    {
      "cell_type": "code",
      "metadata": {
        "id": "HNw1UcofFupb",
        "colab_type": "code",
        "colab": {}
      },
      "source": [
        "def test3(images, writers, N=1):\n",
        "  unique, counts = np.unique(OH_W.decode_all(writers), return_counts=True)  \n",
        "  _writers = dict(zip(unique, counts))\n",
        "  writers_decoded = OH_W.decode_all(writers)\n",
        "  T = 0\n",
        "  F = 0\n",
        "  for _writer in _writers.keys():\n",
        "    _images = images[writers_decoded == _writer]\n",
        "    indexes = [np.random.randint(len(_images)) for _ in range(N)]\n",
        "    prediction = np.zeros((1096,))\n",
        "    for i in indexes:\n",
        "      prediction += semi_finder.predict(np.array([_images[i]]))[0]\n",
        "    prediction /= N\n",
        "\n",
        "    if _writer==OH_W.decode(finalizer.predict(np.array([prediction]))[0]):\n",
        "      T += 1\n",
        "    else:\n",
        "      F += 1\n",
        "  return T/(T+F)"
      ],
      "execution_count": 0,
      "outputs": []
    },
    {
      "cell_type": "code",
      "metadata": {
        "id": "t823siyqF6CT",
        "colab_type": "code",
        "colab": {}
      },
      "source": [
        "%%time\n",
        "M = 20\n",
        "for N in [1, 5, 10]:\n",
        "  print('N: ', N, end='')\n",
        "  acc = 0\n",
        "  for _ in range(M):\n",
        "    acc += test3(images_test, writers_test, N=N)\n",
        "  acc /= M\n",
        "  print(' Accuracy: ', acc)"
      ],
      "execution_count": 0,
      "outputs": []
    },
    {
      "cell_type": "code",
      "metadata": {
        "id": "PW779WhhF-ag",
        "colab_type": "code",
        "colab": {}
      },
      "source": [
        ""
      ],
      "execution_count": 0,
      "outputs": []
    }
  ]
}